{
 "cells": [
  {
   "cell_type": "markdown",
   "id": "e5a6c944",
   "metadata": {},
   "source": [
    "Part II - Email generation"
   ]
  },
  {
   "cell_type": "markdown",
   "id": "1d67c79d",
   "metadata": {},
   "source": [
    "Objective: To generate an email for customers that are at the risk of churn using a LLM.  \n"
   ]
  },
  {
   "cell_type": "markdown",
   "id": "cc6d3bb5",
   "metadata": {},
   "source": [
    "The key step here in the **prompt design**. Standard prompt engineering best practices apply, such as:\n",
    "- Adopting a persona\n",
    "- Being specific about the goal\n",
    "- Provide as much context as necessary\n",
    "- Specifying constraints (adhering to brand and tone of voice guidelines etc.)\n"
   ]
  },
  {
   "cell_type": "markdown",
   "id": "d7817d9a",
   "metadata": {},
   "source": [
    "## First Approach - Simple Prompting\n",
    "\n",
    "Simply entering a prompt with the persona, goal, context and constraints including brand guidelines in an LLM interface."
   ]
  },
  {
   "cell_type": "markdown",
   "id": "52eb82d8",
   "metadata": {},
   "source": [
    "\n",
    "### **Prompt 1:**\n",
    "\n",
    "You are an expert copywriter for a telecommunications company, Vodafone. Your task is to write a customer retention email for a user who has been flagged as high-risk for churning.\n",
    "\n",
    "The email should be friendly, clear, and professional. It should convey trust, reliability, and appreciation for the customer.\n",
    "\n",
    "To achieve this, the email must:\n",
    "\n",
    "- Acknowledge their service: Reference the services they currently have (e.g., phone, internet, streaming services).\n",
    "- Emphasize value: Remind them of the benefits they receive, such as fast internet or a reliable phone connection.\n",
    "- Offer a solution: Include a clear and compelling offer to encourage them to stay. This could be a special discount, an upgrade, or a trial of a new service.\n",
    "\n",
    "\n",
    "\n",
    "Brand Guidelines:\n",
    "\n",
    "- Tone of Voice:  Use warm, conversational language, and avoid technical jargon. The tone should be positive and reassuring, highlighting benefits and solutions.\n",
    "- Email Structure:\n",
    "    - Subject Line: Must be friendly, enticing, and relevant to the customer's interests.\n",
    "    - Greeting: Must be warm and personalized, using the customer's name.\n",
    "    - Introduction: Briefly explain the purpose of the email.\n",
    "    - Body: Highlight special offers or updates and use bullet points for key information to ensure clarity.\n",
    "    - Call to Action: Must be clear and compelling.\n",
    "    - Closing: Should be warm and appreciative.\n",
    "    - Signature: Should be friendly and professional.\n",
    "- Style Tips:\n",
    "    - Personalization: Use the customer's name and tailor the content to their preferences and usage history.\n",
    "    - Consistency: Maintain the same tone throughout the email.\n",
    "    - Visuals: Include placeholders for visuals that align with the Vodafone brand.\n",
    "\n",
    "\n",
    "\n",
    "Customer Profile for Personalisation:\n",
    "\n",
    "- Customer Name: [Customer Name]\n",
    "- Tenure: [tenure in months]\n",
    "- Contract Type: [contract type]\n",
    "- Monthly Charges: [monthly charges]\n",
    "- Reason for churn: [Top factor from churn model analysis]\n",
    "\n",
    "Please generate the email content now."
   ]
  },
  {
   "cell_type": "markdown",
   "id": "9fc01302",
   "metadata": {},
   "source": [
    "### Generated Email Content"
   ]
  },
  {
   "cell_type": "markdown",
   "id": "240c93b7",
   "metadata": {},
   "source": [
    "For the following customer profile: \n",
    "- Customer Name: Wilhelm Waltz\n",
    "- Tenure: 23\n",
    "- Contract Type: Month-to-month\n",
    "- Monthly Charges: 29.85\n",
    "- Reason for churn: tenure\n",
    "\n",
    "and using Gemini, the generated email is as follows:\n",
    "\n",
    "---"
   ]
  },
  {
   "cell_type": "markdown",
   "id": "92e1c18f",
   "metadata": {},
   "source": [
    "Subject: A special thank you for being with Vodafone, Wilhelm!\n",
    "\n",
    "Hi Wilhelm,\n",
    "\n",
    "Thank you for being a valued part of the Vodafone family for the past 23 months. We're so grateful to have you with us and we wanted to reach out to you personally to show our appreciation.\n",
    "\n",
    "We understand that you've been with us on a month-to-month plan, and we wanted to remind you of the reliable service you enjoy, from seamless streaming with our fast internet to staying connected with your loved ones through our reliable phone service.\n",
    "\n",
    "We know how important it is for you to have a service that you can rely on without breaking the bank. So, we've prepared a special, exclusive offer just for you to thank you for your loyalty:\n",
    "\n",
    "- **A 10% discount** on your monthly bill for the next 12 months. That's a total savings of over £35!\n",
    "\n",
    "- **A free upgrade** to our premium streaming service for three months, giving you access to all the latest movies and TV shows at no extra cost.\n",
    "\n",
    "To take advantage of this special offer, simply reply to this email or click the button below to claim your rewards.\n",
    "\n",
    "Claim Your Offer\n",
    "\n",
    "We're committed to providing you with the best possible service, and we hope you'll continue to be part of the Vodafone family for many years to come.\n",
    "\n",
    "Warmly,\n",
    "\n",
    "The Vodafone Team"
   ]
  },
  {
   "cell_type": "markdown",
   "id": "a1da18a2",
   "metadata": {},
   "source": [
    "## Second Approach - 2-layer control\n",
    "\n",
    "1. First, generate the email content using a **Generator Prompt** similar to above.\n",
    "2. Then, use a second **Guardrail prompt** to review the generated email against the brand guidelines and make any necessary adjustments."
   ]
  },
  {
   "cell_type": "markdown",
   "id": "f49ba745",
   "metadata": {},
   "source": [
    "**1. Generator Prompt:**\n",
    "\n",
    "You are an email copywriter for Vodafone. \n",
    "Write a customer retention email that follows Vodafone’s Tone of Voice:\n",
    "\n",
    "- Tone attributes:\n",
    "  • Friendly and approachable: warm, conversational, no jargon.  \n",
    "  • Clear and concise: short sentences, easy to read.  \n",
    "  • Positive and reassuring: highlight benefits, empathize with concerns.  \n",
    "  • Professional and trustworthy: respectful, accurate, reliable.  \n",
    "\n",
    "- Email structure:\n",
    "  1. Subject line: Friendly, enticing, relevant (max 7 words).  \n",
    "  2. Greeting: Warm and personalized.  \n",
    "  3. Introduction: Briefly explain the purpose.  \n",
    "  4. Body: Highlight offers or updates, use bullet points if needed.  \n",
    "  5. Call to Action: Clear, compelling.  \n",
    "  6. Closing: Warm and appreciative.  \n",
    "  7. Signature: Friendly and professional.  \n",
    "\n",
    "Customer details:  \n",
    "- Name: Wilhelm Waltz\n",
    "- Contract type: Month-to-month  \n",
    "- Service: Fiber optic  \n",
    "- Monthly charges: High  \n",
    "- Churn risk score: 0.82 (high)  \n",
    "- Goal: Encourage customer to switch to a yearly contract with benefits.  \n",
    "\n",
    "Output format:  \n",
    "- 2 subject line options  \n",
    "- Full email (Greeting → Body → CTA → Closing → Signature)"
   ]
  },
  {
   "cell_type": "markdown",
   "id": "951a38ac",
   "metadata": {},
   "source": [
    "**Generated Email Content:**\n",
    "\n",
    "Subject line options:\n",
    "\t1.\tLock in savings with your Fiber plan\n",
    "\t2.\tA better deal for your Fiber service\n",
    "\n",
    "⸻\n",
    "\n",
    "Email:\n",
    "\n",
    "Hi Wilhelm,\n",
    "\n",
    "We noticed you’re currently on a flexible month-to-month plan. To make sure you’re getting the best value from your Fiber service, we’d love to offer you a simpler option.\n",
    "\n",
    "By switching to a yearly contract, you’ll enjoy:\n",
    "\t•\tLower monthly charges, while keeping the same great Fiber speed\n",
    "\t•\tPrice protection for the full year\n",
    "\t•\tThe reassurance of no surprises on your bill\n",
    "\n",
    "It’s quick to switch, and you’ll start saving right away.\n",
    "\n",
    "👉 [Switch to a yearly plan today]\n",
    "\n",
    "Thanks for being with Vodafone, Wilhelm. We’re here to make sure your connection is always reliable—and your plan works best for you.\n",
    "\n",
    "Warm regards,\n",
    "The Vodafone Team"
   ]
  },
  {
   "cell_type": "markdown",
   "id": "2a2e3920",
   "metadata": {},
   "source": [
    "**1. Guardrail Prompt:**\n",
    "\n",
    "Check if the following email follows Vodafone’s Tone of Voice.  \n",
    "\n",
    "Guidelines:  \n",
    "- Friendly and approachable: warm, conversational, no jargon.  \n",
    "- Clear and concise: short sentences, bullet points if helpful.  \n",
    "- Positive and reassuring: highlight benefits, show empathy.  \n",
    "- Professional and trustworthy: respectful, accurate.  \n",
    "\n",
    "For each attribute, say PASS or FAIL and suggest improvements if needed.  \n",
    "\n",
    "Email to check:  \n",
    "(text of the email generated above)"
   ]
  },
  {
   "cell_type": "markdown",
   "id": "26502738",
   "metadata": {},
   "source": [
    "**Guardrail Prompt output:**\n",
    "\n",
    "1. Friendly and approachable – PASS (with a minor note)\n",
    "\t- The email feels warm and conversational (“Hi Wilhelm,” “we’d love to offer you,” “Thanks for being with Vodafone”).\n",
    "\t- No jargon.\n",
    "\t- ✅ Suggestion: the call-to-action arrow 👉 feels slightly informal for Vodafone’s brand. A plain button or link might read more professional while still approachable.\n",
    "\n",
    "⸻\n",
    "\n",
    "2. Clear and concise – PASS\n",
    "\t- Sentences are short and easy to follow.\n",
    "\t- Benefits are clearly listed in bullet points.\n",
    "\t- ✅ Suggestion: You could make the subject line even snappier. For example:\n",
    "\t- “Save more with your Fiber plan” (shorter, action-oriented).\n",
    "\n",
    "⸻\n",
    "\n",
    "3. Positive and reassuring – PASS\n",
    "\t- Highlights benefits (savings, stability, reliability).\n",
    "\t- Reassures with “no surprises on your bill” and “always reliable.”\n",
    "\t- ✅ Suggestion: You might add a line that acknowledges the customer’s current flexibility but frames the yearly plan as added peace of mind (“You’ll still get the same flexibility in service, just with more savings”).\n",
    "\n",
    "⸻\n",
    "\n",
    "4. Professional and trustworthy – PASS (minor tweak)\n",
    "\t- Tone is respectful, accurate, and avoids overpromising.\n",
    "\t- ✅ Suggestion: Replace “we’d love to offer you” with “we’d like to offer you” or “we’re offering you” for a more professional balance. “Love to” is warm but may feel slightly casual for a contract change.\n",
    "\n",
    "⸻\n",
    "\n",
    "✅ Overall: Strong draft, already very close to Vodafone’s Tone of Voice.\n",
    "Main tweaks: adjust the CTA arrow for professionalism, tighten the subject line, and slightly refine phrasing around “we’d love to offer you.”"
   ]
  },
  {
   "cell_type": "markdown",
   "id": "a3086128",
   "metadata": {},
   "source": [
    "# Demo"
   ]
  },
  {
   "cell_type": "markdown",
   "id": "8a78b247",
   "metadata": {},
   "source": [
    "Simple treatment logic"
   ]
  },
  {
   "cell_type": "code",
   "execution_count": 1,
   "id": "6408a1c4",
   "metadata": {},
   "outputs": [],
   "source": [
    "def decide_treatment(profile):\n",
    "    if profile['Risk_Bucket'] == 'High':\n",
    "        return {\n",
    "            \"offer_text\": \"Switch to a yearly plan and save 15%\",\n",
    "            \"cta_text\": \"Secure your savings today\",\n",
    "            \"cta_slug\": \"switch-to-yearly\",\n",
    "            \"must_include\": [\"savings\", \"secure\"],\n",
    "            \"legal_key\": \"contract_terms\"\n",
    "        }\n",
    "    elif profile['Risk_Bucket'] == 'Medium':\n",
    "        return {\n",
    "            \"offer_text\": \"Bundle your plan with streaming for extra value\",\n",
    "            \"cta_text\": \"Explore bundle options\",\n",
    "            \"cta_slug\": \"bundle-offer\",\n",
    "            \"must_include\": [\"bundle\", \"value\"],\n",
    "            \"legal_key\": \"bundle_terms\"\n",
    "        }\n",
    "    else:  # low risk\n",
    "        return {\n",
    "            \"offer_text\": \"Thanks for being with us – here’s a loyalty reward\",\n",
    "            \"cta_text\": \"Claim your reward\",\n",
    "            \"cta_slug\": \"loyalty-reward\",\n",
    "            \"must_include\": [\"thank you\", \"reward\"],\n",
    "            \"legal_key\": \"loyalty_terms\"\n",
    "        }"
   ]
  },
  {
   "cell_type": "code",
   "execution_count": 2,
   "id": "04ed01a4",
   "metadata": {},
   "outputs": [],
   "source": [
    "def generate_email(profile, tone_pack, offer_pack, llm):\n",
    "    # a simple skeleton dictionary for demo \n",
    "    return {\n",
    "        \"subject_lines\": [\n",
    "            f\"{profile['offer_text']} just for you\",\n",
    "            f\"Don’t miss out: {profile['offer_text']}\"\n",
    "        ],\n",
    "        \"body\": f\"Hi {profile.get('customerID','')},\\n\\n\"\n",
    "                f\"We noticed you might be interested in {profile['offer_text']}. \"\n",
    "                f\"{offer_pack['cta_hint']}\\n\\n\"\n",
    "                f\"{profile['cta_text']}\\n\\nCheers,\\nVodafone\"\n",
    "    }"
   ]
  },
  {
   "cell_type": "code",
   "execution_count": 3,
   "id": "88dfb16c",
   "metadata": {},
   "outputs": [],
   "source": [
    "def run_batch(results_df, tone_pack, offer_pack, llm=None):\n",
    "    outputs = []\n",
    "    for _, row in results_df.iterrows():\n",
    "        profile = row.to_dict()\n",
    "        treatment = decide_treatment(profile)\n",
    "        email = generate_email({**profile, **treatment}, tone_pack, offer_pack, llm)\n",
    "        outputs.append({\"customerID\": row[\"customerID\"], **email})\n",
    "    return pd.DataFrame(outputs)"
   ]
  },
  {
   "cell_type": "code",
   "execution_count": 4,
   "id": "e74acc0e",
   "metadata": {},
   "outputs": [],
   "source": [
    "tone_pack = {\"pillars\": [\"Friendly\", \"Clear\", \"Positive\"], \"donts\": [\"Jargon\", \"Over-promises\"]}\n",
    "offer_pack = {\"cta_hint\": \"This is a limited-time benefit.\"}"
   ]
  },
  {
   "cell_type": "code",
   "execution_count": 5,
   "id": "0a85cd10",
   "metadata": {},
   "outputs": [],
   "source": [
    "import pandas as pd\n",
    "results = pd.read_csv(\"../dept-churn-prediction-email-gen/churn_results.csv\")"
   ]
  },
  {
   "cell_type": "code",
   "execution_count": 6,
   "id": "9cf58c11",
   "metadata": {},
   "outputs": [
    {
     "data": {
      "text/html": [
       "<div>\n",
       "<style scoped>\n",
       "    .dataframe tbody tr th:only-of-type {\n",
       "        vertical-align: middle;\n",
       "    }\n",
       "\n",
       "    .dataframe tbody tr th {\n",
       "        vertical-align: top;\n",
       "    }\n",
       "\n",
       "    .dataframe thead th {\n",
       "        text-align: right;\n",
       "    }\n",
       "</style>\n",
       "<table border=\"1\" class=\"dataframe\">\n",
       "  <thead>\n",
       "    <tr style=\"text-align: right;\">\n",
       "      <th></th>\n",
       "      <th>customerID</th>\n",
       "      <th>subject_lines</th>\n",
       "      <th>body</th>\n",
       "    </tr>\n",
       "  </thead>\n",
       "  <tbody>\n",
       "    <tr>\n",
       "      <th>0</th>\n",
       "      <td>4376-KFVRS</td>\n",
       "      <td>[Thanks for being with us – here’s a loyalty r...</td>\n",
       "      <td>Hi 4376-KFVRS,\\n\\nWe noticed you might be inte...</td>\n",
       "    </tr>\n",
       "    <tr>\n",
       "      <th>1</th>\n",
       "      <td>2754-SDJRD</td>\n",
       "      <td>[Thanks for being with us – here’s a loyalty r...</td>\n",
       "      <td>Hi 2754-SDJRD,\\n\\nWe noticed you might be inte...</td>\n",
       "    </tr>\n",
       "    <tr>\n",
       "      <th>2</th>\n",
       "      <td>9917-KWRBE</td>\n",
       "      <td>[Thanks for being with us – here’s a loyalty r...</td>\n",
       "      <td>Hi 9917-KWRBE,\\n\\nWe noticed you might be inte...</td>\n",
       "    </tr>\n",
       "    <tr>\n",
       "      <th>3</th>\n",
       "      <td>0365-GXEZS</td>\n",
       "      <td>[Bundle your plan with streaming for extra val...</td>\n",
       "      <td>Hi 0365-GXEZS,\\n\\nWe noticed you might be inte...</td>\n",
       "    </tr>\n",
       "    <tr>\n",
       "      <th>4</th>\n",
       "      <td>9385-NXKDA</td>\n",
       "      <td>[Thanks for being with us – here’s a loyalty r...</td>\n",
       "      <td>Hi 9385-NXKDA,\\n\\nWe noticed you might be inte...</td>\n",
       "    </tr>\n",
       "  </tbody>\n",
       "</table>\n",
       "</div>"
      ],
      "text/plain": [
       "   customerID                                      subject_lines  \\\n",
       "0  4376-KFVRS  [Thanks for being with us – here’s a loyalty r...   \n",
       "1  2754-SDJRD  [Thanks for being with us – here’s a loyalty r...   \n",
       "2  9917-KWRBE  [Thanks for being with us – here’s a loyalty r...   \n",
       "3  0365-GXEZS  [Bundle your plan with streaming for extra val...   \n",
       "4  9385-NXKDA  [Thanks for being with us – here’s a loyalty r...   \n",
       "\n",
       "                                                body  \n",
       "0  Hi 4376-KFVRS,\\n\\nWe noticed you might be inte...  \n",
       "1  Hi 2754-SDJRD,\\n\\nWe noticed you might be inte...  \n",
       "2  Hi 9917-KWRBE,\\n\\nWe noticed you might be inte...  \n",
       "3  Hi 0365-GXEZS,\\n\\nWe noticed you might be inte...  \n",
       "4  Hi 9385-NXKDA,\\n\\nWe noticed you might be inte...  "
      ]
     },
     "execution_count": 6,
     "metadata": {},
     "output_type": "execute_result"
    }
   ],
   "source": [
    "emails_df = run_batch(results, tone_pack, offer_pack)\n",
    "\n",
    "emails_df.head()"
   ]
  }
 ],
 "metadata": {
  "kernelspec": {
   "display_name": "Python 3",
   "language": "python",
   "name": "python3"
  },
  "language_info": {
   "codemirror_mode": {
    "name": "ipython",
    "version": 3
   },
   "file_extension": ".py",
   "mimetype": "text/x-python",
   "name": "python",
   "nbconvert_exporter": "python",
   "pygments_lexer": "ipython3",
   "version": "3.11.2"
  }
 },
 "nbformat": 4,
 "nbformat_minor": 5
}
