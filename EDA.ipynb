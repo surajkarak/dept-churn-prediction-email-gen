{
 "cells": [
  {
   "cell_type": "code",
   "execution_count": 54,
   "id": "51d3714f",
   "metadata": {},
   "outputs": [],
   "source": [
    "import numpy as np  \n",
    "import pandas as pd  \n",
    "import matplotlib.pyplot as plt\n",
    "plt.style.use('ggplot')\n",
    "import seaborn as sns    \n",
    "import warnings\n",
    "warnings.simplefilter(action='ignore', category=FutureWarning)"
   ]
  },
  {
   "cell_type": "code",
   "execution_count": 55,
   "id": "3edb30c6",
   "metadata": {},
   "outputs": [],
   "source": [
    "data = pd.read_csv('Vodafone_Customer_Churn_Sample_Dataset.csv')"
   ]
  },
  {
   "cell_type": "markdown",
   "id": "f58eba50",
   "metadata": {},
   "source": [
    "# Data Exploration"
   ]
  },
  {
   "cell_type": "code",
   "execution_count": 56,
   "id": "b781d6b4",
   "metadata": {},
   "outputs": [
    {
     "data": {
      "text/html": [
       "<div>\n",
       "<style scoped>\n",
       "    .dataframe tbody tr th:only-of-type {\n",
       "        vertical-align: middle;\n",
       "    }\n",
       "\n",
       "    .dataframe tbody tr th {\n",
       "        vertical-align: top;\n",
       "    }\n",
       "\n",
       "    .dataframe thead th {\n",
       "        text-align: right;\n",
       "    }\n",
       "</style>\n",
       "<table border=\"1\" class=\"dataframe\">\n",
       "  <thead>\n",
       "    <tr style=\"text-align: right;\">\n",
       "      <th></th>\n",
       "      <th>customerID</th>\n",
       "      <th>gender</th>\n",
       "      <th>SeniorCitizen</th>\n",
       "      <th>Partner</th>\n",
       "      <th>Dependents</th>\n",
       "      <th>tenure</th>\n",
       "      <th>PhoneService</th>\n",
       "      <th>MultipleLines</th>\n",
       "      <th>InternetService</th>\n",
       "      <th>OnlineSecurity</th>\n",
       "      <th>...</th>\n",
       "      <th>DeviceProtection</th>\n",
       "      <th>TechSupport</th>\n",
       "      <th>StreamingTV</th>\n",
       "      <th>StreamingMovies</th>\n",
       "      <th>Contract</th>\n",
       "      <th>PaperlessBilling</th>\n",
       "      <th>PaymentMethod</th>\n",
       "      <th>MonthlyCharges</th>\n",
       "      <th>TotalCharges</th>\n",
       "      <th>Churn</th>\n",
       "    </tr>\n",
       "  </thead>\n",
       "  <tbody>\n",
       "    <tr>\n",
       "      <th>0</th>\n",
       "      <td>7590-VHVEG</td>\n",
       "      <td>Female</td>\n",
       "      <td>0</td>\n",
       "      <td>Yes</td>\n",
       "      <td>No</td>\n",
       "      <td>1</td>\n",
       "      <td>No</td>\n",
       "      <td>No phone service</td>\n",
       "      <td>DSL</td>\n",
       "      <td>No</td>\n",
       "      <td>...</td>\n",
       "      <td>No</td>\n",
       "      <td>No</td>\n",
       "      <td>No</td>\n",
       "      <td>No</td>\n",
       "      <td>Month-to-month</td>\n",
       "      <td>Yes</td>\n",
       "      <td>Electronic check</td>\n",
       "      <td>29.85</td>\n",
       "      <td>29.85</td>\n",
       "      <td>No</td>\n",
       "    </tr>\n",
       "    <tr>\n",
       "      <th>1</th>\n",
       "      <td>5575-GNVDE</td>\n",
       "      <td>Male</td>\n",
       "      <td>0</td>\n",
       "      <td>No</td>\n",
       "      <td>No</td>\n",
       "      <td>34</td>\n",
       "      <td>Yes</td>\n",
       "      <td>No</td>\n",
       "      <td>DSL</td>\n",
       "      <td>Yes</td>\n",
       "      <td>...</td>\n",
       "      <td>Yes</td>\n",
       "      <td>No</td>\n",
       "      <td>No</td>\n",
       "      <td>No</td>\n",
       "      <td>One year</td>\n",
       "      <td>No</td>\n",
       "      <td>Mailed check</td>\n",
       "      <td>56.95</td>\n",
       "      <td>1889.5</td>\n",
       "      <td>No</td>\n",
       "    </tr>\n",
       "    <tr>\n",
       "      <th>2</th>\n",
       "      <td>3668-QPYBK</td>\n",
       "      <td>Male</td>\n",
       "      <td>0</td>\n",
       "      <td>No</td>\n",
       "      <td>No</td>\n",
       "      <td>2</td>\n",
       "      <td>Yes</td>\n",
       "      <td>No</td>\n",
       "      <td>DSL</td>\n",
       "      <td>Yes</td>\n",
       "      <td>...</td>\n",
       "      <td>No</td>\n",
       "      <td>No</td>\n",
       "      <td>No</td>\n",
       "      <td>No</td>\n",
       "      <td>Month-to-month</td>\n",
       "      <td>Yes</td>\n",
       "      <td>Mailed check</td>\n",
       "      <td>53.85</td>\n",
       "      <td>108.15</td>\n",
       "      <td>Yes</td>\n",
       "    </tr>\n",
       "    <tr>\n",
       "      <th>3</th>\n",
       "      <td>7795-CFOCW</td>\n",
       "      <td>Male</td>\n",
       "      <td>0</td>\n",
       "      <td>No</td>\n",
       "      <td>No</td>\n",
       "      <td>45</td>\n",
       "      <td>No</td>\n",
       "      <td>No phone service</td>\n",
       "      <td>DSL</td>\n",
       "      <td>Yes</td>\n",
       "      <td>...</td>\n",
       "      <td>Yes</td>\n",
       "      <td>Yes</td>\n",
       "      <td>No</td>\n",
       "      <td>No</td>\n",
       "      <td>One year</td>\n",
       "      <td>No</td>\n",
       "      <td>Bank transfer (automatic)</td>\n",
       "      <td>42.30</td>\n",
       "      <td>1840.75</td>\n",
       "      <td>No</td>\n",
       "    </tr>\n",
       "    <tr>\n",
       "      <th>4</th>\n",
       "      <td>9237-HQITU</td>\n",
       "      <td>Female</td>\n",
       "      <td>0</td>\n",
       "      <td>No</td>\n",
       "      <td>No</td>\n",
       "      <td>2</td>\n",
       "      <td>Yes</td>\n",
       "      <td>No</td>\n",
       "      <td>Fiber optic</td>\n",
       "      <td>No</td>\n",
       "      <td>...</td>\n",
       "      <td>No</td>\n",
       "      <td>No</td>\n",
       "      <td>No</td>\n",
       "      <td>No</td>\n",
       "      <td>Month-to-month</td>\n",
       "      <td>Yes</td>\n",
       "      <td>Electronic check</td>\n",
       "      <td>70.70</td>\n",
       "      <td>151.65</td>\n",
       "      <td>Yes</td>\n",
       "    </tr>\n",
       "  </tbody>\n",
       "</table>\n",
       "<p>5 rows × 21 columns</p>\n",
       "</div>"
      ],
      "text/plain": [
       "   customerID  gender  SeniorCitizen Partner Dependents  tenure PhoneService  \\\n",
       "0  7590-VHVEG  Female              0     Yes         No       1           No   \n",
       "1  5575-GNVDE    Male              0      No         No      34          Yes   \n",
       "2  3668-QPYBK    Male              0      No         No       2          Yes   \n",
       "3  7795-CFOCW    Male              0      No         No      45           No   \n",
       "4  9237-HQITU  Female              0      No         No       2          Yes   \n",
       "\n",
       "      MultipleLines InternetService OnlineSecurity  ... DeviceProtection  \\\n",
       "0  No phone service             DSL             No  ...               No   \n",
       "1                No             DSL            Yes  ...              Yes   \n",
       "2                No             DSL            Yes  ...               No   \n",
       "3  No phone service             DSL            Yes  ...              Yes   \n",
       "4                No     Fiber optic             No  ...               No   \n",
       "\n",
       "  TechSupport StreamingTV StreamingMovies        Contract PaperlessBilling  \\\n",
       "0          No          No              No  Month-to-month              Yes   \n",
       "1          No          No              No        One year               No   \n",
       "2          No          No              No  Month-to-month              Yes   \n",
       "3         Yes          No              No        One year               No   \n",
       "4          No          No              No  Month-to-month              Yes   \n",
       "\n",
       "               PaymentMethod MonthlyCharges  TotalCharges Churn  \n",
       "0           Electronic check          29.85         29.85    No  \n",
       "1               Mailed check          56.95        1889.5    No  \n",
       "2               Mailed check          53.85        108.15   Yes  \n",
       "3  Bank transfer (automatic)          42.30       1840.75    No  \n",
       "4           Electronic check          70.70        151.65   Yes  \n",
       "\n",
       "[5 rows x 21 columns]"
      ]
     },
     "execution_count": 56,
     "metadata": {},
     "output_type": "execute_result"
    }
   ],
   "source": [
    "data.head()"
   ]
  },
  {
   "cell_type": "code",
   "execution_count": 57,
   "id": "acebd45e",
   "metadata": {},
   "outputs": [
    {
     "name": "stdout",
     "output_type": "stream",
     "text": [
      "<class 'pandas.core.frame.DataFrame'>\n",
      "RangeIndex: 7043 entries, 0 to 7042\n",
      "Data columns (total 21 columns):\n",
      " #   Column            Non-Null Count  Dtype  \n",
      "---  ------            --------------  -----  \n",
      " 0   customerID        7043 non-null   object \n",
      " 1   gender            7043 non-null   object \n",
      " 2   SeniorCitizen     7043 non-null   int64  \n",
      " 3   Partner           7043 non-null   object \n",
      " 4   Dependents        7043 non-null   object \n",
      " 5   tenure            7043 non-null   int64  \n",
      " 6   PhoneService      7043 non-null   object \n",
      " 7   MultipleLines     7043 non-null   object \n",
      " 8   InternetService   7043 non-null   object \n",
      " 9   OnlineSecurity    7043 non-null   object \n",
      " 10  OnlineBackup      7043 non-null   object \n",
      " 11  DeviceProtection  7043 non-null   object \n",
      " 12  TechSupport       7043 non-null   object \n",
      " 13  StreamingTV       7043 non-null   object \n",
      " 14  StreamingMovies   7043 non-null   object \n",
      " 15  Contract          7043 non-null   object \n",
      " 16  PaperlessBilling  7043 non-null   object \n",
      " 17  PaymentMethod     7043 non-null   object \n",
      " 18  MonthlyCharges    7043 non-null   float64\n",
      " 19  TotalCharges      7043 non-null   object \n",
      " 20  Churn             7043 non-null   object \n",
      "dtypes: float64(1), int64(2), object(18)\n",
      "memory usage: 1.1+ MB\n"
     ]
    }
   ],
   "source": [
    "data.info()"
   ]
  },
  {
   "cell_type": "code",
   "execution_count": 58,
   "id": "7aa80818",
   "metadata": {},
   "outputs": [
    {
     "data": {
      "text/plain": [
       "customerID          7043\n",
       "gender                 2\n",
       "SeniorCitizen          2\n",
       "Partner                2\n",
       "Dependents             2\n",
       "tenure                73\n",
       "PhoneService           2\n",
       "MultipleLines          3\n",
       "InternetService        3\n",
       "OnlineSecurity         3\n",
       "OnlineBackup           3\n",
       "DeviceProtection       3\n",
       "TechSupport            3\n",
       "StreamingTV            3\n",
       "StreamingMovies        3\n",
       "Contract               3\n",
       "PaperlessBilling       2\n",
       "PaymentMethod          4\n",
       "MonthlyCharges      1585\n",
       "TotalCharges        6531\n",
       "Churn                  2\n",
       "dtype: int64"
      ]
     },
     "execution_count": 58,
     "metadata": {},
     "output_type": "execute_result"
    }
   ],
   "source": [
    "data.nunique()"
   ]
  },
  {
   "cell_type": "markdown",
   "id": "0ee352f1",
   "metadata": {},
   "source": [
    "7043 entries with as many unique customerIDs. That means there are no duplicate customerIDs."
   ]
  },
  {
   "cell_type": "markdown",
   "id": "6681f670",
   "metadata": {},
   "source": [
    "3 numerical features - Tenure, MonthlyCharges, and TotalCharges \n",
    "16 categorical features - 6 of them binary and  10 of them with 3 or 4 categories.\n",
    "Target variable Churn is binary - Yes or No\n"
   ]
  },
  {
   "cell_type": "markdown",
   "id": "84f1c061",
   "metadata": {},
   "source": [
    "## Exploring numerical variables"
   ]
  },
  {
   "cell_type": "markdown",
   "id": "61ade198",
   "metadata": {},
   "source": [
    "Quick check to see what the values of tenure are like:"
   ]
  },
  {
   "cell_type": "code",
   "execution_count": 59,
   "id": "815d919d",
   "metadata": {},
   "outputs": [
    {
     "data": {
      "text/plain": [
       "array([ 1, 34,  2, 45,  8, 22, 10, 28, 62, 13, 16, 58, 49, 25, 69, 52, 71,\n",
       "       21, 12, 30, 47, 72, 17, 27,  5, 46, 11, 70, 63, 43, 15, 60, 18, 66,\n",
       "        9,  3, 31, 50, 64, 56,  7, 42, 35, 48, 29, 65, 38, 68, 32, 55, 37,\n",
       "       36, 41,  6,  4, 33, 67, 23, 57, 61, 14, 20, 53, 40, 59, 24, 44, 19,\n",
       "       54, 51, 26,  0, 39])"
      ]
     },
     "execution_count": 59,
     "metadata": {},
     "output_type": "execute_result"
    }
   ],
   "source": [
    "data['tenure'].unique()"
   ]
  },
  {
   "cell_type": "code",
   "execution_count": 60,
   "id": "2ae7deed",
   "metadata": {},
   "outputs": [
    {
     "data": {
      "text/plain": [
       "dtype('O')"
      ]
     },
     "execution_count": 60,
     "metadata": {},
     "output_type": "execute_result"
    }
   ],
   "source": [
    "data['TotalCharges'].dtype"
   ]
  },
  {
   "cell_type": "markdown",
   "id": "84ecade6",
   "metadata": {},
   "source": [
    "TotalCharges is being read as an object for some reason. Converting it to numeric."
   ]
  },
  {
   "cell_type": "code",
   "execution_count": 61,
   "id": "4c043f1f",
   "metadata": {},
   "outputs": [
    {
     "data": {
      "text/plain": [
       "dtype('float64')"
      ]
     },
     "execution_count": 61,
     "metadata": {},
     "output_type": "execute_result"
    }
   ],
   "source": [
    "data['TotalCharges'] = pd.to_numeric(data['TotalCharges'], errors='coerce')\n",
    "data['TotalCharges'].dtype"
   ]
  },
  {
   "cell_type": "markdown",
   "id": "ac10d81a",
   "metadata": {},
   "source": [
    "Quick check on the distribution of the numerical variables."
   ]
  },
  {
   "cell_type": "code",
   "execution_count": 62,
   "id": "9f1a888e",
   "metadata": {},
   "outputs": [
    {
     "data": {
      "image/png": "[encoded data removed]",
      "text/plain": [
       "<Figure size 1600x400 with 3 Axes>"
      ]
     },
     "metadata": {},
     "output_type": "display_data"
    }
   ],
   "source": [
    " \n",
    "fig, axes = plt.subplots(1,3, figsize=(16, 4))\n",
    "\n",
    "numeric_cols = ['tenure', 'MonthlyCharges', 'TotalCharges'] \n",
    "\n",
    "for i, feature in enumerate(numeric_cols):\n",
    "    sns.histplot(data[feature], ax=axes[i])\n",
    "    axes[i].set_xlabel(feature)\n",
    "    axes[i].set_title(f'Distribution of {feature}')\n",
    "\n",
    "plt.tight_layout()\n",
    "plt.show()"
   ]
  },
  {
   "cell_type": "markdown",
   "id": "68bce854",
   "metadata": {},
   "source": [
    "- Highest proportion of customers are new (tenure of less than 5 months) but also a significant number of customers with long tenures (more than 65 months).\n",
    "- Monthly charges follow a somewhat bimodal distribution with high number of customers paying less than 30 and also a sizeable proportion of customers paying around 80.\n",
    "- Total charges is right skewed with most customers paying total of less than 500, and a long tail with some outliers paying up to 8000 and more"
   ]
  },
  {
   "cell_type": "markdown",
   "id": "eb928b72",
   "metadata": {},
   "source": [
    "Quick check on the box plot as well to see the outliers."
   ]
  },
  {
   "cell_type": "code",
   "execution_count": 63,
   "id": "192b8ac8",
   "metadata": {},
   "outputs": [
    {
     "data": {
      "image/png": "[encoded data removed]",
      "text/plain": [
       "<Figure size 800x400 with 3 Axes>"
      ]
     },
     "metadata": {},
     "output_type": "display_data"
    }
   ],
   "source": [
    "num_features = [ 'tenure',  'MonthlyCharges', 'TotalCharges']\n",
    "\n",
    "fig, axes = plt.subplots(1,3, figsize=(8, 4))\n",
    "axes = axes.flatten()\n",
    "\n",
    "for idx, feature in enumerate(num_features):\n",
    "    ax = axes[idx]\n",
    "    data.boxplot(column=feature, ax=ax)\n",
    "    ax.set_xlabel(\"\")\n",
    "\n",
    "plt.tight_layout()\n",
    "plt.show()"
   ]
  },
  {
   "cell_type": "markdown",
   "id": "53ae1779",
   "metadata": {},
   "source": [
    "TotalCharges does have some outliers, but they are not too extreme. We also don't want to miss any customer (later on we might want to get churn risk for every customer) so we don't drop the outliers."
   ]
  },
  {
   "cell_type": "markdown",
   "id": "271d430a",
   "metadata": {},
   "source": [
    "## Exploring categorial variables"
   ]
  },
  {
   "cell_type": "code",
   "execution_count": 93,
   "id": "5aa9185a",
   "metadata": {},
   "outputs": [
    {
     "data": {
      "text/plain": [
       "<Axes: xlabel='gender', ylabel='count'>"
      ]
     },
     "execution_count": 93,
     "metadata": {},
     "output_type": "execute_result"
    },
    {
     "data": {
      "image/png": "[encoded data removed]",
      "text/plain": [
       "<Figure size 300x300 with 1 Axes>"
      ]
     },
     "metadata": {},
     "output_type": "display_data"
    }
   ],
   "source": [
    "plt.figure(figsize=(3,3))\n",
    "sns.countplot(data=data, x='gender', palette={\"Female\": \"blue\", \"Male\": \"red\"})\n"
   ]
  },
  {
   "cell_type": "markdown",
   "id": "6def38cb",
   "metadata": {},
   "source": [
    "Gender is balanced. Almost equal distribution."
   ]
  },
  {
   "cell_type": "code",
   "execution_count": 90,
   "id": "7440a9cf",
   "metadata": {},
   "outputs": [
    {
     "data": {
      "text/plain": [
       "<Axes: xlabel='SeniorCitizen', ylabel='count'>"
      ]
     },
     "execution_count": 90,
     "metadata": {},
     "output_type": "execute_result"
    },
    {
     "data": {
      "image/png": "[encoded data removed]",
      "text/plain": [
       "<Figure size 300x300 with 1 Axes>"
      ]
     },
     "metadata": {},
     "output_type": "display_data"
    }
   ],
   "source": [
    "plt.figure(figsize=(3,3))\n",
    "sns.countplot(data=data, x='SeniorCitizen', palette={\"1\": \"blue\", \"0\": \"red\"})\n"
   ]
  },
  {
   "cell_type": "markdown",
   "id": "2395a454",
   "metadata": {},
   "source": [
    "Much fewer Senior Citizens than non-Senior Citizens. Good to know at this stage."
   ]
  },
  {
   "cell_type": "code",
   "execution_count": 92,
   "id": "e9b9c5a1",
   "metadata": {},
   "outputs": [
    {
     "data": {
      "image/png": "[encoded data removed]",
      "text/plain": [
       "<Figure size 1600x400 with 4 Axes>"
      ]
     },
     "metadata": {},
     "output_type": "display_data"
    }
   ],
   "source": [
    "fig, axes = plt.subplots(1, 4, figsize=(16, 4))\n",
    "axes = axes.flatten()\n",
    "\n",
    "\n",
    "custom_palette = {\"Yes\": \"blue\", \"No\": \"red\"}\n",
    "\n",
    "for idx, feature in enumerate(['Partner', 'Dependents', 'PhoneService','PaperlessBilling']):\n",
    "    sns.histplot(\n",
    "        data=data,\n",
    "        x=feature,\n",
    "        hue=feature,              \n",
    "        discrete=True,\n",
    "        palette=custom_palette,\n",
    "        ax=axes[idx],\n",
    "        legend=False               \n",
    "    )\n",
    "    \n",
    "    axes[idx].set_title(feature)\n",
    "    axes[idx].set_xlabel(feature)\n",
    "    axes[idx].set_ylabel(\"Count\")\n",
    "\n",
    "plt.tight_layout()\n",
    "plt.show()"
   ]
  },
  {
   "cell_type": "markdown",
   "id": "343393d9",
   "metadata": {},
   "source": [
    "Equal proportion of customers with and without partners.\n",
    "\n",
    "More customers without dependents than with dependents.\n",
    "\n",
    "Most customers have a Phone service.\n",
    "\n",
    "More customers have paperless billing than not but not by a big margin.\n"
   ]
  },
  {
   "cell_type": "code",
   "execution_count": 97,
   "id": "72362977",
   "metadata": {},
   "outputs": [
    {
     "data": {
      "image/png": "[encoded data removed]",
      "text/plain": [
       "<Figure size 1200x800 with 9 Axes>"
      ]
     },
     "metadata": {},
     "output_type": "display_data"
    }
   ],
   "source": [
    "fig, axes = plt.subplots(3, 3, figsize=(12, 8))\n",
    "axes = axes.flatten()\n",
    "\n",
    "\n",
    "# custom_palette = {\"Yes\": \"blue\", \"No\": \"red\"}\n",
    "\n",
    "for idx, feature in enumerate(['MultipleLines', 'InternetService', 'OnlineSecurity','OnlineBackup', 'DeviceProtection','TechSupport','StreamingTV','StreamingMovies', 'Contract']):\n",
    "    sns.histplot(\n",
    "        data=data,\n",
    "        x=feature,\n",
    "        hue=feature,              \n",
    "        discrete=True,\n",
    "        # palette=custom_palette,\n",
    "        ax=axes[idx],\n",
    "        legend=False               \n",
    "    )\n",
    "    axes[idx].set_title(feature)\n",
    "    axes[idx].set_xlabel(feature)\n",
    "    axes[idx].set_ylabel(\"Count\")\n",
    "\n",
    "plt.tight_layout()\n",
    "plt.show()"
   ]
  },
  {
   "cell_type": "markdown",
   "id": "02661a04",
   "metadata": {},
   "source": [
    "Almost equal distribution of customers with and without multiple lines.\n",
    "\n",
    "Among customers with internet service, there are\n",
    "- More who have with Fiber optic internet than DSL\n",
    "- More who have **not** opted for online security, online backup, device protection, tech support than those who have\n",
    "- Slightly more who have **not** opted for streaming TV and Streaming movies than those who have, but only slightly\n",
    "  \n",
    "More customers are on month-to-month contracts than one or two year contracts.\n"
   ]
  },
  {
   "cell_type": "code",
   "execution_count": 99,
   "id": "67c81fa2",
   "metadata": {},
   "outputs": [
    {
     "data": {
      "text/plain": [
       "<Axes: xlabel='PaymentMethod', ylabel='count'>"
      ]
     },
     "execution_count": 99,
     "metadata": {},
     "output_type": "execute_result"
    },
    {
     "data": {
      "image/png": "[encoded data removed]",
      "text/plain": [
       "<Figure size 1000x400 with 1 Axes>"
      ]
     },
     "metadata": {},
     "output_type": "display_data"
    }
   ],
   "source": [
    "plt.figure(figsize=(10,4))\n",
    "sns.countplot(data=data, x='PaymentMethod')\n"
   ]
  },
  {
   "cell_type": "markdown",
   "id": "3d9498b1",
   "metadata": {},
   "source": [
    "The most popular payment method is Electronic check, followed by Mailed check, Bank transfer (automatic) and Credit card (automatic), although the last 3 are very close to each other."
   ]
  },
  {
   "cell_type": "code",
   "execution_count": 100,
   "id": "ba664ea6",
   "metadata": {},
   "outputs": [
    {
     "data": {
      "text/plain": [
       "<Axes: xlabel='Churn', ylabel='count'>"
      ]
     },
     "execution_count": 100,
     "metadata": {},
     "output_type": "execute_result"
    },
    {
     "data": {
      "image/png": "[encoded data removed]",
      "text/plain": [
       "<Figure size 300x400 with 1 Axes>"
      ]
     },
     "metadata": {},
     "output_type": "display_data"
    }
   ],
   "source": [
    "plt.figure(figsize=(3,4))\n",
    "sns.countplot(data=data, x='Churn', palette = {\"Yes\": \"blue\", \"No\": \"red\"})\n",
    "\n"
   ]
  },
  {
   "cell_type": "code",
   "execution_count": 70,
   "id": "c92f6c55",
   "metadata": {},
   "outputs": [
    {
     "data": {
      "text/plain": [
       "Churn\n",
       "No     5174\n",
       "Yes    1869\n",
       "Name: count, dtype: int64"
      ]
     },
     "execution_count": 70,
     "metadata": {},
     "output_type": "execute_result"
    }
   ],
   "source": [
    "data['Churn'].value_counts()"
   ]
  },
  {
   "cell_type": "markdown",
   "id": "8518b0d8",
   "metadata": {},
   "source": [
    "This is significant. The dataset has much fewer cases of churn (1869) than no churn (5174). This means that the target variable is imbalanced and should be accounted for in model building."
   ]
  },
  {
   "cell_type": "code",
   "execution_count": 71,
   "id": "7f5c8bc3",
   "metadata": {},
   "outputs": [
    {
     "data": {
      "text/plain": [
       "Index(['customerID', 'gender', 'SeniorCitizen', 'Partner', 'Dependents',\n",
       "       'tenure', 'PhoneService', 'MultipleLines', 'InternetService',\n",
       "       'OnlineSecurity', 'OnlineBackup', 'DeviceProtection', 'TechSupport',\n",
       "       'StreamingTV', 'StreamingMovies', 'Contract', 'PaperlessBilling',\n",
       "       'PaymentMethod', 'MonthlyCharges', 'TotalCharges', 'Churn'],\n",
       "      dtype='object')"
      ]
     },
     "execution_count": 71,
     "metadata": {},
     "output_type": "execute_result"
    }
   ],
   "source": [
    "data.columns"
   ]
  },
  {
   "cell_type": "markdown",
   "id": "99b1e015",
   "metadata": {},
   "source": [
    "Quick check on the distribution of the numerical variables."
   ]
  },
  {
   "cell_type": "code",
   "execution_count": 72,
   "id": "4cec6f26",
   "metadata": {},
   "outputs": [
    {
     "data": {
      "image/png": "[encoded data removed]",
      "text/plain": [
       "<Figure size 600x400 with 2 Axes>"
      ]
     },
     "metadata": {},
     "output_type": "display_data"
    }
   ],
   "source": [
    "\n",
    "numeric_cols = ['tenure', 'MonthlyCharges', 'TotalCharges']\n",
    "\n",
    "corr = data[numeric_cols].corr()\n",
    "\n",
    "plt.figure(figsize=(6,4))\n",
    "sns.heatmap(corr, annot=True, cmap=\"coolwarm\", fmt=\".2f\")\n",
    "plt.title(\"Correlation Matrix (Numeric Features)\")\n",
    "plt.show()"
   ]
  },
  {
   "cell_type": "markdown",
   "id": "d41b11b5",
   "metadata": {},
   "source": [
    "Tenure is highly correlated with TotalCharges (makes sense, the longer the customer stays, the more they pay in total).\n",
    "MonthlyCharges is slightly correlated with TotalCharges (also makes sense, the more they pay monthly, the more they pay in total)."
   ]
  },
  {
   "cell_type": "code",
   "execution_count": 73,
   "id": "b6f8cbaf",
   "metadata": {},
   "outputs": [
    {
     "name": "stdout",
     "output_type": "stream",
     "text": [
      "Unique values for SeniorCitizen: [0 1])\n",
      "Unique values for Partner: ['Yes' 'No'])\n",
      "Unique values for Dependents: ['No' 'Yes'])\n",
      "Unique values for PhoneService: ['No' 'Yes'])\n",
      "Unique values for PaperlessBilling: ['Yes' 'No'])\n",
      "Unique values for Churn: ['No' 'Yes'])\n",
      "Unique values for MultipleLines: ['No phone service' 'No' 'Yes'])\n",
      "Unique values for InternetService: ['DSL' 'Fiber optic' 'No'])\n",
      "Unique values for Contract: ['Month-to-month' 'One year' 'Two year'])\n",
      "Unique values for PaymentMethod: ['Electronic check' 'Mailed check' 'Bank transfer (automatic)'\n",
      " 'Credit card (automatic)'])\n",
      "Unique values for OnlineSecurity: ['No' 'Yes' 'No internet service'])\n",
      "Unique values for OnlineBackup: ['Yes' 'No' 'No internet service'])\n",
      "Unique values for DeviceProtection: ['No' 'Yes' 'No internet service'])\n",
      "Unique values for TechSupport: ['No' 'Yes' 'No internet service'])\n",
      "Unique values for StreamingTV: ['No' 'Yes' 'No internet service'])\n",
      "Unique values for StreamingMovies: ['No' 'Yes' 'No internet service'])\n"
     ]
    }
   ],
   "source": [
    "binary_cols = ['SeniorCitizen','Partner','Dependents','PhoneService','PaperlessBilling','Churn',\n",
    "        ]\n",
    "\n",
    "multi_cat_cols = ['MultipleLines','InternetService','Contract','PaymentMethod','OnlineSecurity','OnlineBackup','DeviceProtection',\n",
    "        'TechSupport','StreamingTV','StreamingMovies']\n",
    "\n",
    "for col in binary_cols+multi_cat_cols:\n",
    "    print(f\"Unique values for {col}: {data[col].unique()})\")\n"
   ]
  },
  {
   "cell_type": "code",
   "execution_count": 74,
   "id": "82b0106c",
   "metadata": {},
   "outputs": [
    {
     "data": {
      "text/plain": [
       "Index(['customerID', 'gender', 'SeniorCitizen', 'Partner', 'Dependents',\n",
       "       'tenure', 'PhoneService', 'MultipleLines', 'InternetService',\n",
       "       'OnlineSecurity', 'OnlineBackup', 'DeviceProtection', 'TechSupport',\n",
       "       'StreamingTV', 'StreamingMovies', 'Contract', 'PaperlessBilling',\n",
       "       'PaymentMethod', 'MonthlyCharges', 'TotalCharges', 'Churn'],\n",
       "      dtype='object')"
      ]
     },
     "execution_count": 74,
     "metadata": {},
     "output_type": "execute_result"
    }
   ],
   "source": [
    "data.columns"
   ]
  },
  {
   "cell_type": "markdown",
   "id": "74c5cfa4",
   "metadata": {},
   "source": [
    "## Feature Engineering"
   ]
  },
  {
   "cell_type": "code",
   "execution_count": 75,
   "id": "83295d90",
   "metadata": {},
   "outputs": [],
   "source": [
    "df = data.copy()"
   ]
  },
  {
   "cell_type": "code",
   "execution_count": 76,
   "id": "e04d0a37",
   "metadata": {},
   "outputs": [
    {
     "data": {
      "text/plain": [
       "customerID           0\n",
       "gender               0\n",
       "SeniorCitizen        0\n",
       "Partner              0\n",
       "Dependents           0\n",
       "tenure               0\n",
       "PhoneService         0\n",
       "MultipleLines        0\n",
       "InternetService      0\n",
       "OnlineSecurity       0\n",
       "OnlineBackup         0\n",
       "DeviceProtection     0\n",
       "TechSupport          0\n",
       "StreamingTV          0\n",
       "StreamingMovies      0\n",
       "Contract             0\n",
       "PaperlessBilling     0\n",
       "PaymentMethod        0\n",
       "MonthlyCharges       0\n",
       "TotalCharges        11\n",
       "Churn                0\n",
       "dtype: int64"
      ]
     },
     "execution_count": 76,
     "metadata": {},
     "output_type": "execute_result"
    }
   ],
   "source": [
    "df.isnull().sum()"
   ]
  },
  {
   "cell_type": "markdown",
   "id": "a4c091f0",
   "metadata": {},
   "source": [
    "There are 11 null values for TotalCharges. This has to be dealt with before modeling. Quick look at these rows.\n"
   ]
  },
  {
   "cell_type": "code",
   "execution_count": 77,
   "id": "ebadef9c",
   "metadata": {},
   "outputs": [
    {
     "data": {
      "text/html": [
       "<div>\n",
       "<style scoped>\n",
       "    .dataframe tbody tr th:only-of-type {\n",
       "        vertical-align: middle;\n",
       "    }\n",
       "\n",
       "    .dataframe tbody tr th {\n",
       "        vertical-align: top;\n",
       "    }\n",
       "\n",
       "    .dataframe thead th {\n",
       "        text-align: right;\n",
       "    }\n",
       "</style>\n",
       "<table border=\"1\" class=\"dataframe\">\n",
       "  <thead>\n",
       "    <tr style=\"text-align: right;\">\n",
       "      <th></th>\n",
       "      <th>MonthlyCharges</th>\n",
       "      <th>tenure</th>\n",
       "      <th>TotalCharges</th>\n",
       "    </tr>\n",
       "  </thead>\n",
       "  <tbody>\n",
       "    <tr>\n",
       "      <th>488</th>\n",
       "      <td>52.55</td>\n",
       "      <td>0</td>\n",
       "      <td>NaN</td>\n",
       "    </tr>\n",
       "    <tr>\n",
       "      <th>753</th>\n",
       "      <td>20.25</td>\n",
       "      <td>0</td>\n",
       "      <td>NaN</td>\n",
       "    </tr>\n",
       "    <tr>\n",
       "      <th>936</th>\n",
       "      <td>80.85</td>\n",
       "      <td>0</td>\n",
       "      <td>NaN</td>\n",
       "    </tr>\n",
       "    <tr>\n",
       "      <th>1082</th>\n",
       "      <td>25.75</td>\n",
       "      <td>0</td>\n",
       "      <td>NaN</td>\n",
       "    </tr>\n",
       "    <tr>\n",
       "      <th>1340</th>\n",
       "      <td>56.05</td>\n",
       "      <td>0</td>\n",
       "      <td>NaN</td>\n",
       "    </tr>\n",
       "    <tr>\n",
       "      <th>3331</th>\n",
       "      <td>19.85</td>\n",
       "      <td>0</td>\n",
       "      <td>NaN</td>\n",
       "    </tr>\n",
       "    <tr>\n",
       "      <th>3826</th>\n",
       "      <td>25.35</td>\n",
       "      <td>0</td>\n",
       "      <td>NaN</td>\n",
       "    </tr>\n",
       "    <tr>\n",
       "      <th>4380</th>\n",
       "      <td>20.00</td>\n",
       "      <td>0</td>\n",
       "      <td>NaN</td>\n",
       "    </tr>\n",
       "    <tr>\n",
       "      <th>5218</th>\n",
       "      <td>19.70</td>\n",
       "      <td>0</td>\n",
       "      <td>NaN</td>\n",
       "    </tr>\n",
       "    <tr>\n",
       "      <th>6670</th>\n",
       "      <td>73.35</td>\n",
       "      <td>0</td>\n",
       "      <td>NaN</td>\n",
       "    </tr>\n",
       "    <tr>\n",
       "      <th>6754</th>\n",
       "      <td>61.90</td>\n",
       "      <td>0</td>\n",
       "      <td>NaN</td>\n",
       "    </tr>\n",
       "  </tbody>\n",
       "</table>\n",
       "</div>"
      ],
      "text/plain": [
       "      MonthlyCharges  tenure  TotalCharges\n",
       "488            52.55       0           NaN\n",
       "753            20.25       0           NaN\n",
       "936            80.85       0           NaN\n",
       "1082           25.75       0           NaN\n",
       "1340           56.05       0           NaN\n",
       "3331           19.85       0           NaN\n",
       "3826           25.35       0           NaN\n",
       "4380           20.00       0           NaN\n",
       "5218           19.70       0           NaN\n",
       "6670           73.35       0           NaN\n",
       "6754           61.90       0           NaN"
      ]
     },
     "execution_count": 77,
     "metadata": {},
     "output_type": "execute_result"
    }
   ],
   "source": [
    "df[df['TotalCharges'].isnull()][['MonthlyCharges','tenure','TotalCharges']]"
   ]
  },
  {
   "cell_type": "markdown",
   "id": "2aeaf594",
   "metadata": {},
   "source": [
    "I suspected that these are customers with tenure of 0, i.e. new customers who have not been charged anything yet. \n",
    "Normally we drop these rows but we don't want to lose these customers as they might be at high risk of churn and we still want to classify them.\n",
    "Another option is imputation but a simpler way is to set the TotalCharges for these as 0, as they may not have been charged anything yet due to their new billing cycle being yet to start."
   ]
  },
  {
   "cell_type": "code",
   "execution_count": 78,
   "id": "d8e62a72",
   "metadata": {},
   "outputs": [
    {
     "data": {
      "text/html": [
       "<div>\n",
       "<style scoped>\n",
       "    .dataframe tbody tr th:only-of-type {\n",
       "        vertical-align: middle;\n",
       "    }\n",
       "\n",
       "    .dataframe tbody tr th {\n",
       "        vertical-align: top;\n",
       "    }\n",
       "\n",
       "    .dataframe thead th {\n",
       "        text-align: right;\n",
       "    }\n",
       "</style>\n",
       "<table border=\"1\" class=\"dataframe\">\n",
       "  <thead>\n",
       "    <tr style=\"text-align: right;\">\n",
       "      <th></th>\n",
       "      <th>MonthlyCharges</th>\n",
       "      <th>tenure</th>\n",
       "      <th>TotalCharges</th>\n",
       "    </tr>\n",
       "  </thead>\n",
       "  <tbody>\n",
       "    <tr>\n",
       "      <th>488</th>\n",
       "      <td>52.55</td>\n",
       "      <td>0</td>\n",
       "      <td>0.0</td>\n",
       "    </tr>\n",
       "    <tr>\n",
       "      <th>753</th>\n",
       "      <td>20.25</td>\n",
       "      <td>0</td>\n",
       "      <td>0.0</td>\n",
       "    </tr>\n",
       "    <tr>\n",
       "      <th>936</th>\n",
       "      <td>80.85</td>\n",
       "      <td>0</td>\n",
       "      <td>0.0</td>\n",
       "    </tr>\n",
       "    <tr>\n",
       "      <th>1082</th>\n",
       "      <td>25.75</td>\n",
       "      <td>0</td>\n",
       "      <td>0.0</td>\n",
       "    </tr>\n",
       "    <tr>\n",
       "      <th>1340</th>\n",
       "      <td>56.05</td>\n",
       "      <td>0</td>\n",
       "      <td>0.0</td>\n",
       "    </tr>\n",
       "    <tr>\n",
       "      <th>3331</th>\n",
       "      <td>19.85</td>\n",
       "      <td>0</td>\n",
       "      <td>0.0</td>\n",
       "    </tr>\n",
       "    <tr>\n",
       "      <th>3826</th>\n",
       "      <td>25.35</td>\n",
       "      <td>0</td>\n",
       "      <td>0.0</td>\n",
       "    </tr>\n",
       "    <tr>\n",
       "      <th>4380</th>\n",
       "      <td>20.00</td>\n",
       "      <td>0</td>\n",
       "      <td>0.0</td>\n",
       "    </tr>\n",
       "    <tr>\n",
       "      <th>5218</th>\n",
       "      <td>19.70</td>\n",
       "      <td>0</td>\n",
       "      <td>0.0</td>\n",
       "    </tr>\n",
       "    <tr>\n",
       "      <th>6670</th>\n",
       "      <td>73.35</td>\n",
       "      <td>0</td>\n",
       "      <td>0.0</td>\n",
       "    </tr>\n",
       "    <tr>\n",
       "      <th>6754</th>\n",
       "      <td>61.90</td>\n",
       "      <td>0</td>\n",
       "      <td>0.0</td>\n",
       "    </tr>\n",
       "  </tbody>\n",
       "</table>\n",
       "</div>"
      ],
      "text/plain": [
       "      MonthlyCharges  tenure  TotalCharges\n",
       "488            52.55       0           0.0\n",
       "753            20.25       0           0.0\n",
       "936            80.85       0           0.0\n",
       "1082           25.75       0           0.0\n",
       "1340           56.05       0           0.0\n",
       "3331           19.85       0           0.0\n",
       "3826           25.35       0           0.0\n",
       "4380           20.00       0           0.0\n",
       "5218           19.70       0           0.0\n",
       "6670           73.35       0           0.0\n",
       "6754           61.90       0           0.0"
      ]
     },
     "execution_count": 78,
     "metadata": {},
     "output_type": "execute_result"
    }
   ],
   "source": [
    "df.loc[df['tenure']==0, 'TotalCharges'] = 0\n",
    "df[df['tenure']==0][['MonthlyCharges','tenure','TotalCharges']]"
   ]
  },
  {
   "cell_type": "markdown",
   "id": "3831325a",
   "metadata": {},
   "source": [
    "Encoding the binary variables as 1 or 0"
   ]
  },
  {
   "cell_type": "code",
   "execution_count": 79,
   "id": "8beb9ca5",
   "metadata": {},
   "outputs": [],
   "source": [
    "df.gender = df.gender.replace({'Female':1,'Male':0})\n",
    "binary_cols = ['SeniorCitizen','Partner','Dependents','PhoneService','PaperlessBilling','Churn',\n",
    "               ]\n",
    "\n",
    "for col in binary_cols:\n",
    "    df[col] = df[col].replace({'Yes':1, 'No':0})\n"
   ]
  },
  {
   "cell_type": "markdown",
   "id": "cbd60623",
   "metadata": {},
   "source": [
    "One-hot encoding the categorical variables with more than 2 categories"
   ]
  },
  {
   "cell_type": "code",
   "execution_count": 80,
   "id": "74d4bcc1",
   "metadata": {},
   "outputs": [],
   "source": [
    "multi_cat_cols = ['MultipleLines','InternetService','Contract','PaymentMethod','OnlineSecurity','OnlineBackup','DeviceProtection',\n",
    "               'TechSupport','StreamingTV','StreamingMovies']\n",
    "\n",
    "df = pd.get_dummies(df, columns=multi_cat_cols, drop_first=True)"
   ]
  },
  {
   "cell_type": "code",
   "execution_count": 81,
   "id": "f31e82c9",
   "metadata": {},
   "outputs": [
    {
     "data": {
      "text/plain": [
       "Index(['customerID', 'gender', 'SeniorCitizen', 'Partner', 'Dependents',\n",
       "       'tenure', 'PhoneService', 'PaperlessBilling', 'MonthlyCharges',\n",
       "       'TotalCharges', 'Churn', 'MultipleLines_No phone service',\n",
       "       'MultipleLines_Yes', 'InternetService_Fiber optic',\n",
       "       'InternetService_No', 'Contract_One year', 'Contract_Two year',\n",
       "       'PaymentMethod_Credit card (automatic)',\n",
       "       'PaymentMethod_Electronic check', 'PaymentMethod_Mailed check',\n",
       "       'OnlineSecurity_No internet service', 'OnlineSecurity_Yes',\n",
       "       'OnlineBackup_No internet service', 'OnlineBackup_Yes',\n",
       "       'DeviceProtection_No internet service', 'DeviceProtection_Yes',\n",
       "       'TechSupport_No internet service', 'TechSupport_Yes',\n",
       "       'StreamingTV_No internet service', 'StreamingTV_Yes',\n",
       "       'StreamingMovies_No internet service', 'StreamingMovies_Yes'],\n",
       "      dtype='object')"
      ]
     },
     "execution_count": 81,
     "metadata": {},
     "output_type": "execute_result"
    }
   ],
   "source": [
    "df.columns"
   ]
  },
  {
   "cell_type": "markdown",
   "id": "808bd746",
   "metadata": {},
   "source": [
    "CustomerID is not useful for prediction, but it is needed to map back the predicted churn risk later on to each customer.\n",
    "For exploration and checking correlations it is not useful, so we will drop it now."
   ]
  },
  {
   "cell_type": "code",
   "execution_count": 82,
   "id": "876b773c",
   "metadata": {},
   "outputs": [
    {
     "data": {
      "text/html": [
       "<div>\n",
       "<style scoped>\n",
       "    .dataframe tbody tr th:only-of-type {\n",
       "        vertical-align: middle;\n",
       "    }\n",
       "\n",
       "    .dataframe tbody tr th {\n",
       "        vertical-align: top;\n",
       "    }\n",
       "\n",
       "    .dataframe thead th {\n",
       "        text-align: right;\n",
       "    }\n",
       "</style>\n",
       "<table border=\"1\" class=\"dataframe\">\n",
       "  <thead>\n",
       "    <tr style=\"text-align: right;\">\n",
       "      <th></th>\n",
       "      <th>gender</th>\n",
       "      <th>SeniorCitizen</th>\n",
       "      <th>Partner</th>\n",
       "      <th>Dependents</th>\n",
       "      <th>tenure</th>\n",
       "      <th>PhoneService</th>\n",
       "      <th>PaperlessBilling</th>\n",
       "      <th>MonthlyCharges</th>\n",
       "      <th>TotalCharges</th>\n",
       "      <th>Churn</th>\n",
       "      <th>...</th>\n",
       "      <th>OnlineBackup_No internet service</th>\n",
       "      <th>OnlineBackup_Yes</th>\n",
       "      <th>DeviceProtection_No internet service</th>\n",
       "      <th>DeviceProtection_Yes</th>\n",
       "      <th>TechSupport_No internet service</th>\n",
       "      <th>TechSupport_Yes</th>\n",
       "      <th>StreamingTV_No internet service</th>\n",
       "      <th>StreamingTV_Yes</th>\n",
       "      <th>StreamingMovies_No internet service</th>\n",
       "      <th>StreamingMovies_Yes</th>\n",
       "    </tr>\n",
       "  </thead>\n",
       "  <tbody>\n",
       "    <tr>\n",
       "      <th>0</th>\n",
       "      <td>1</td>\n",
       "      <td>0</td>\n",
       "      <td>1</td>\n",
       "      <td>0</td>\n",
       "      <td>1</td>\n",
       "      <td>0</td>\n",
       "      <td>1</td>\n",
       "      <td>29.85</td>\n",
       "      <td>29.85</td>\n",
       "      <td>0</td>\n",
       "      <td>...</td>\n",
       "      <td>False</td>\n",
       "      <td>True</td>\n",
       "      <td>False</td>\n",
       "      <td>False</td>\n",
       "      <td>False</td>\n",
       "      <td>False</td>\n",
       "      <td>False</td>\n",
       "      <td>False</td>\n",
       "      <td>False</td>\n",
       "      <td>False</td>\n",
       "    </tr>\n",
       "    <tr>\n",
       "      <th>1</th>\n",
       "      <td>0</td>\n",
       "      <td>0</td>\n",
       "      <td>0</td>\n",
       "      <td>0</td>\n",
       "      <td>34</td>\n",
       "      <td>1</td>\n",
       "      <td>0</td>\n",
       "      <td>56.95</td>\n",
       "      <td>1889.50</td>\n",
       "      <td>0</td>\n",
       "      <td>...</td>\n",
       "      <td>False</td>\n",
       "      <td>False</td>\n",
       "      <td>False</td>\n",
       "      <td>True</td>\n",
       "      <td>False</td>\n",
       "      <td>False</td>\n",
       "      <td>False</td>\n",
       "      <td>False</td>\n",
       "      <td>False</td>\n",
       "      <td>False</td>\n",
       "    </tr>\n",
       "    <tr>\n",
       "      <th>2</th>\n",
       "      <td>0</td>\n",
       "      <td>0</td>\n",
       "      <td>0</td>\n",
       "      <td>0</td>\n",
       "      <td>2</td>\n",
       "      <td>1</td>\n",
       "      <td>1</td>\n",
       "      <td>53.85</td>\n",
       "      <td>108.15</td>\n",
       "      <td>1</td>\n",
       "      <td>...</td>\n",
       "      <td>False</td>\n",
       "      <td>True</td>\n",
       "      <td>False</td>\n",
       "      <td>False</td>\n",
       "      <td>False</td>\n",
       "      <td>False</td>\n",
       "      <td>False</td>\n",
       "      <td>False</td>\n",
       "      <td>False</td>\n",
       "      <td>False</td>\n",
       "    </tr>\n",
       "    <tr>\n",
       "      <th>3</th>\n",
       "      <td>0</td>\n",
       "      <td>0</td>\n",
       "      <td>0</td>\n",
       "      <td>0</td>\n",
       "      <td>45</td>\n",
       "      <td>0</td>\n",
       "      <td>0</td>\n",
       "      <td>42.30</td>\n",
       "      <td>1840.75</td>\n",
       "      <td>0</td>\n",
       "      <td>...</td>\n",
       "      <td>False</td>\n",
       "      <td>False</td>\n",
       "      <td>False</td>\n",
       "      <td>True</td>\n",
       "      <td>False</td>\n",
       "      <td>True</td>\n",
       "      <td>False</td>\n",
       "      <td>False</td>\n",
       "      <td>False</td>\n",
       "      <td>False</td>\n",
       "    </tr>\n",
       "    <tr>\n",
       "      <th>4</th>\n",
       "      <td>1</td>\n",
       "      <td>0</td>\n",
       "      <td>0</td>\n",
       "      <td>0</td>\n",
       "      <td>2</td>\n",
       "      <td>1</td>\n",
       "      <td>1</td>\n",
       "      <td>70.70</td>\n",
       "      <td>151.65</td>\n",
       "      <td>1</td>\n",
       "      <td>...</td>\n",
       "      <td>False</td>\n",
       "      <td>False</td>\n",
       "      <td>False</td>\n",
       "      <td>False</td>\n",
       "      <td>False</td>\n",
       "      <td>False</td>\n",
       "      <td>False</td>\n",
       "      <td>False</td>\n",
       "      <td>False</td>\n",
       "      <td>False</td>\n",
       "    </tr>\n",
       "  </tbody>\n",
       "</table>\n",
       "<p>5 rows × 31 columns</p>\n",
       "</div>"
      ],
      "text/plain": [
       "   gender  SeniorCitizen  Partner  Dependents  tenure  PhoneService  \\\n",
       "0       1              0        1           0       1             0   \n",
       "1       0              0        0           0      34             1   \n",
       "2       0              0        0           0       2             1   \n",
       "3       0              0        0           0      45             0   \n",
       "4       1              0        0           0       2             1   \n",
       "\n",
       "   PaperlessBilling  MonthlyCharges  TotalCharges  Churn  ...  \\\n",
       "0                 1           29.85         29.85      0  ...   \n",
       "1                 0           56.95       1889.50      0  ...   \n",
       "2                 1           53.85        108.15      1  ...   \n",
       "3                 0           42.30       1840.75      0  ...   \n",
       "4                 1           70.70        151.65      1  ...   \n",
       "\n",
       "   OnlineBackup_No internet service  OnlineBackup_Yes  \\\n",
       "0                             False              True   \n",
       "1                             False             False   \n",
       "2                             False              True   \n",
       "3                             False             False   \n",
       "4                             False             False   \n",
       "\n",
       "   DeviceProtection_No internet service  DeviceProtection_Yes  \\\n",
       "0                                 False                 False   \n",
       "1                                 False                  True   \n",
       "2                                 False                 False   \n",
       "3                                 False                  True   \n",
       "4                                 False                 False   \n",
       "\n",
       "   TechSupport_No internet service  TechSupport_Yes  \\\n",
       "0                            False            False   \n",
       "1                            False            False   \n",
       "2                            False            False   \n",
       "3                            False             True   \n",
       "4                            False            False   \n",
       "\n",
       "   StreamingTV_No internet service  StreamingTV_Yes  \\\n",
       "0                            False            False   \n",
       "1                            False            False   \n",
       "2                            False            False   \n",
       "3                            False            False   \n",
       "4                            False            False   \n",
       "\n",
       "   StreamingMovies_No internet service  StreamingMovies_Yes  \n",
       "0                                False                False  \n",
       "1                                False                False  \n",
       "2                                False                False  \n",
       "3                                False                False  \n",
       "4                                False                False  \n",
       "\n",
       "[5 rows x 31 columns]"
      ]
     },
     "execution_count": 82,
     "metadata": {},
     "output_type": "execute_result"
    }
   ],
   "source": [
    "df = df.drop('customerID', axis=1)\n",
    "df.head()"
   ]
  },
  {
   "cell_type": "code",
   "execution_count": 83,
   "id": "2c195df3",
   "metadata": {},
   "outputs": [],
   "source": [
    "import plotly.express as px\n",
    "import pandas as pd"
   ]
  },
  {
   "cell_type": "code",
   "execution_count": 84,
   "id": "5399b822",
   "metadata": {},
   "outputs": [
    {
     "data": {
      "application/vnd.plotly.v1+json": {
       "config": {
        "plotlyServerURL": "https://plot.ly"
       },
       "data": [
        {
         "coloraxis": "coloraxis",
         "hovertemplate": "Correlation: %{z:.2f}",
         "name": "0",
         "type": "heatmap",
         "x": [
          "gender",
          "SeniorCitizen",
          "Partner",
          "Dependents",
          "tenure",
          "PhoneService",
          "PaperlessBilling",
          "MonthlyCharges",
          "TotalCharges",
          "Churn",
          "MultipleLines_No phone service",
          "MultipleLines_Yes",
          "InternetService_Fiber optic",
          "InternetService_No",
          "Contract_One year",
          "Contract_Two year",
          "PaymentMethod_Credit card (automatic)",
          "PaymentMethod_Electronic check",
          "PaymentMethod_Mailed check",
          "OnlineSecurity_No internet service",
          "OnlineSecurity_Yes",
          "OnlineBackup_No internet service",
          "OnlineBackup_Yes",
          "DeviceProtection_No internet service",
          "DeviceProtection_Yes",
          "TechSupport_No internet service",
          "TechSupport_Yes",
          "StreamingTV_No internet service",
          "StreamingTV_Yes",
          "StreamingMovies_No internet service",
          "StreamingMovies_Yes"
         ],
         "xaxis": "x",
         "y": [
          "gender",
          "SeniorCitizen",
          "Partner",
          "Dependents",
          "tenure",
          "PhoneService",
          "PaperlessBilling",
          "MonthlyCharges",
          "TotalCharges",
          "Churn",
          "MultipleLines_No phone service",
          "MultipleLines_Yes",
          "InternetService_Fiber optic",
          "InternetService_No",
          "Contract_One year",
          "Contract_Two year",
          "PaymentMethod_Credit card (automatic)",
          "PaymentMethod_Electronic check",
          "PaymentMethod_Mailed check",
          "OnlineSecurity_No internet service",
          "OnlineSecurity_Yes",
          "OnlineBackup_No internet service",
          "OnlineBackup_Yes",
          "DeviceProtection_No internet service",
          "DeviceProtection_Yes",
          "TechSupport_No internet service",
          "TechSupport_Yes",
          "StreamingTV_No internet service",
          "StreamingTV_Yes",
          "StreamingMovies_No internet service",
          "StreamingMovies_Yes"
         ],
         "yaxis": "y",
         "z": [
          [
           1,
           0.0018737116382606725,
           0.0018080796617889992,
           -0.01051661192273409,
           -0.005106222619949836,
           0.006487672136208218,
           0.011753691221222188,
           0.014569323728667328,
           0.00008030345627874582,
           0.008612095078997803,
           -0.00648767213620821,
           0.008413655871516405,
           0.011286442720116632,
           -0.006025751154069734,
           -0.008025643075007383,
           0.0036950508034765835,
           -0.0012147794729687603,
           -0.000752180701195118,
           -0.013744173305346297,
           -0.006025751154069734,
           0.017020796813959366,
           -0.006025751154069734,
           0.013773188729006026,
           -0.006025751154069734,
           0.0021045826513887023,
           -0.006025751154069734,
           0.009211760356587639,
           -0.006025751154069734,
           0.008392549998357647,
           -0.006025751154069734,
           0.010487356300500295
          ],
          [
           0.0018737116382606725,
           1,
           0.016478657597413886,
           -0.2111850884939574,
           0.01656687768180933,
           0.008576401079279383,
           0.15652955931117263,
           0.22017333857627205,
           0.1030061840795253,
           0.1508893281764724,
           -0.008576401079279376,
           0.14294817476276167,
           0.2553377729551272,
           -0.1827417229067252,
           -0.04626244292701932,
           -0.11700001812504586,
           -0.024135372360318853,
           0.17171777869093566,
           -0.1534774904289598,
           -0.1827417229067252,
           -0.038652704497195135,
           -0.1827417229067252,
           0.06657213514513477,
           -0.1827417229067252,
           0.05942849428693291,
           -0.1827417229067252,
           -0.06062459069356331,
           -0.1827417229067252,
           0.10537766784282361,
           -0.1827417229067252,
           0.12017625118896447
          ],
          [
           0.0018080796617889992,
           0.016478657597413886,
           1,
           0.45267628292946593,
           0.37969746116829306,
           0.017705663223971973,
           -0.014876622287891073,
           0.09684793625647482,
           0.3175040180528807,
           -0.15044754495917612,
           -0.017705663223972053,
           0.14205707936228554,
           0.0003036654164642693,
           0.000615165086389719,
           0.08278330748148334,
           0.2480906545375639,
           0.08202919645732594,
           -0.0838516893627104,
           -0.0951248588229323,
           0.000615165086389719,
           0.14310622750264376,
           0.000615165086389719,
           0.14149801947228105,
           0.000615165086389719,
           0.1537864356307786,
           0.000615165086389719,
           0.11999886976431598,
           0.000615165086389719,
           0.12466580056491713,
           0.000615165086389719,
           0.11741185447194484
          ],
          [
           -0.01051661192273409,
           -0.2111850884939574,
           0.45267628292946593,
           1,
           0.1597123312169179,
           -0.0017616785446837246,
           -0.11137722919364466,
           -0.11389023002193575,
           0.06207819481604354,
           -0.16422140157972534,
           0.001761678544683746,
           -0.0245258044141005,
           -0.165818358755422,
           0.13981188531167849,
           0.06836848043822046,
           0.20461344694774097,
           0.06026700017636762,
           -0.15064248847911282,
           0.05907101281466744,
           0.13981188531167849,
           0.08097166023248388,
           0.13981188531167849,
           0.023671013010513376,
           0.13981188531167849,
           0.013962535653790237,
           0.13981188531167849,
           0.06326814139965373,
           0.13981188531167849,
           -0.01655774295103743,
           0.13981188531167849,
           -0.0397409620589235
          ],
          [
           -0.005106222619949836,
           0.01656687768180933,
           0.37969746116829306,
           0.1597123312169179,
           1,
           0.00844820673274377,
           0.006152481598271076,
           0.24789985628615108,
           0.8261783979502434,
           -0.35222867011307873,
           -0.008448206732743829,
           0.3319405556091875,
           0.019720367686755655,
           -0.03906198211042829,
           0.20257047544941764,
           0.5585326708193885,
           0.2330055250125013,
           -0.20836250343948987,
           -0.23385205012387283,
           -0.03906198211042829,
           0.3272027731682451,
           -0.03906198211042829,
           0.36027698898467386,
           -0.03906198211042829,
           0.36065286693247145,
           -0.03906198211042829,
           0.32422077199936566,
           -0.03906198211042829,
           0.27975608223591575,
           -0.03906198211042829,
           0.28611058777846027
          ],
          [
           0.006487672136208218,
           0.008576401079279383,
           0.017705663223971973,
           -0.0017616785446837246,
           0.00844820673274377,
           1,
           0.016504805732569582,
           0.24739796321413568,
           0.11321354444457563,
           0.011941980029003048,
           -1,
           0.2796899947429133,
           0.2899989345730813,
           0.17220876982805305,
           -0.0027906430986324826,
           0.0035189075685082005,
           -0.00772116000909938,
           0.00306182984543006,
           -0.0033187895436075673,
           0.17220876982805305,
           -0.09289270011220853,
           0.17220876982805305,
           -0.05231224294763546,
           0.17220876982805305,
           -0.07122688671747501,
           0.17220876982805305,
           -0.09633961826825965,
           0.17220876982805305,
           -0.02257359179493708,
           0.17220876982805305,
           -0.032958892364780966
          ],
          [
           0.011753691221222188,
           0.15652955931117263,
           -0.014876622287891073,
           -0.11137722919364466,
           0.006152481598271076,
           0.016504805732569582,
           1,
           0.3521499677959872,
           0.15857437033154356,
           0.1918253316664687,
           -0.016504805732569572,
           0.1635301742129278,
           0.3268532485196042,
           -0.321013065233209,
           -0.05139115917344696,
           -0.14788875031016616,
           -0.013588829059284399,
           0.2088647554671869,
           -0.20539800518883702,
           -0.321013065233209,
           -0.0036358971484742315,
           -0.321013065233209,
           0.12673537300697282,
           -0.321013065233209,
           0.10379680498154166,
           -0.321013065233209,
           0.03787990020728151,
           -0.321013065233209,
           0.22384098246010228,
           -0.321013065233209,
           0.21171599176513148
          ],
          [
           0.014569323728667328,
           0.22017333857627205,
           0.09684793625647482,
           -0.11389023002193575,
           0.24789985628615108,
           0.24739796321413568,
           0.3521499677959872,
           1,
           0.6511738315787816,
           0.19335642223784713,
           -0.2473979632141356,
           0.4904339694400294,
           0.7870655284726782,
           -0.7635565582865729,
           0.004903839415022829,
           -0.07468085092684262,
           0.0305503580723098,
           0.2716246710861263,
           -0.3774373156841074,
           -0.7635565582865729,
           0.296594192000567,
           -0.7635565582865729,
           0.44178009435947463,
           -0.7635565582865729,
           0.4826920482732954,
           -0.7635565582865729,
           0.3383042642201546,
           -0.7635565582865729,
           0.6296031609781678,
           -0.7635565582865729,
           0.6274288843898599
          ],
          [
           0.00008030345627874582,
           0.1030061840795253,
           0.3175040180528807,
           0.06207819481604354,
           0.8261783979502434,
           0.11321354444457563,
           0.15857437033154356,
           0.6511738315787816,
           1,
           -0.19832426260399486,
           -0.11321354444457588,
           0.4685038161636605,
           0.36165543578004633,
           -0.3752228425945091,
           0.17081388562935462,
           0.35448077651085985,
           0.18291458126297627,
           -0.05924588832828427,
           -0.295758423135486,
           -0.3752228425945091,
           0.4116505266521841,
           -0.3752228425945091,
           0.5092260122231487,
           -0.3752228425945091,
           0.5219828797811954,
           -0.3752228425945091,
           0.4318827713275005,
           -0.3752228425945091,
           0.5149734780630059,
           -0.3752228425945091,
           0.520121782100853
          ],
          [
           0.008612095078997803,
           0.1508893281764724,
           -0.15044754495917612,
           -0.16422140157972534,
           -0.35222867011307873,
           0.011941980029003048,
           0.1918253316664687,
           0.19335642223784713,
           -0.19832426260399486,
           1,
           -0.011941980029003086,
           0.040102127699826115,
           0.30801974494482265,
           -0.22789044975609363,
           -0.1778200183499078,
           -0.30225346934965014,
           -0.13430175066262848,
           0.30191874901128485,
           -0.09168283858842924,
           -0.22789044975609363,
           -0.17122629194855227,
           -0.22789044975609363,
           -0.08225486893814253,
           -0.22789044975609363,
           -0.0661597912802896,
           -0.22789044975609363,
           -0.16467355590159402,
           -0.22789044975609363,
           0.06322774611875737,
           -0.22789044975609363,
           0.061381548015186964
          ],
          [
           -0.00648767213620821,
           -0.008576401079279376,
           -0.017705663223972053,
           0.001761678544683746,
           -0.008448206732743829,
           -1,
           -0.016504805732569572,
           -0.2473979632141356,
           -0.11321354444457588,
           -0.011941980029003086,
           1,
           -0.27968999474291306,
           -0.2899989345730814,
           -0.17220876982805305,
           0.00279064309863245,
           -0.0035189075685081806,
           0.0077211600090993935,
           -0.0030618298454300617,
           0.0033187895436076146,
           -0.17220876982805305,
           0.09289270011220858,
           -0.17220876982805305,
           0.052312242947635604,
           -0.17220876982805305,
           0.07122688671747497,
           -0.17220876982805305,
           0.09633961826825942,
           -0.17220876982805305,
           0.02257359179493701,
           -0.17220876982805305,
           0.03295889236478096
          ],
          [
           0.008413655871516405,
           0.14294817476276167,
           0.14205707936228554,
           -0.0245258044141005,
           0.3319405556091875,
           0.2796899947429133,
           0.1635301742129278,
           0.4904339694400294,
           0.4685038161636605,
           0.040102127699826115,
           -0.27968999474291306,
           1,
           0.366083249611789,
           -0.21056352377913026,
           -0.0037935880457818424,
           0.10625270251960481,
           0.06004835777743554,
           0.08361817831666876,
           -0.2272063004280584,
           -0.21056352377913026,
           0.09810813969726401,
           -0.21056352377913026,
           0.20223701632049465,
           -0.21056352377913026,
           0.2011365325449602,
           -0.21056352377913026,
           0.10057130998573939,
           -0.21056352377913026,
           0.25715163510824723,
           -0.21056352377913026,
           0.2587514919937776
          ],
          [
           0.011286442720116632,
           0.2553377729551272,
           0.0003036654164642693,
           -0.165818358755422,
           0.019720367686755655,
           0.2899989345730813,
           0.3268532485196042,
           0.7870655284726782,
           0.36165543578004633,
           0.30801974494482265,
           -0.2899989345730814,
           0.366083249611789,
           1,
           -0.46579271044600296,
           -0.076324090894692,
           -0.21152603536967934,
           -0.05007665545044694,
           0.336409778025587,
           -0.3068341295762488,
           -0.46579271044600296,
           -0.030695710962353,
           -0.46579271044600296,
           0.16565089083393228,
           -0.46579271044600296,
           0.17604889095154463,
           -0.46579271044600296,
           -0.020492402500577496,
           -0.46579271044600296,
           0.32934852591155744,
           -0.46579271044600296,
           0.3229226980848275
          ],
          [
           -0.006025751154069734,
           -0.1827417229067252,
           0.000615165086389719,
           0.13981188531167849,
           -0.03906198211042829,
           0.17220876982805305,
           -0.321013065233209,
           -0.7635565582865729,
           -0.3752228425945091,
           -0.22789044975609363,
           -0.17220876982805305,
           -0.21056352377913026,
           -0.46579271044600296,
           1,
           0.03800394241916657,
           0.21827822340960498,
           0.0010297293228974508,
           -0.28491664585002247,
           0.3213607323178355,
           1,
           -0.33340270489645063,
           1,
           -0.38159329680772747,
           1,
           -0.38075433795295827,
           1,
           -0.3362982846984598,
           1,
           -0.41555189388029695,
           1,
           -0.4186750789702156
          ],
          [
           -0.008025643075007383,
           -0.04626244292701932,
           0.08278330748148334,
           0.06836848043822046,
           0.20257047544941764,
           -0.0027906430986324826,
           -0.05139115917344696,
           0.004903839415022829,
           0.17081388562935462,
           -0.1778200183499078,
           0.00279064309863245,
           -0.0037935880457818424,
           -0.076324090894692,
           0.03800394241916657,
           1,
           -0.2895095723414522,
           0.0675894142068618,
           -0.10912981441493752,
           -0.0001162210619356353,
           0.038003942419166575,
           0.10016245689105187,
           0.038003942419166575,
           0.08372237279771919,
           0.038003942419166575,
           0.10249519931671613,
           0.038003942419166575,
           0.09577473766009509,
           0.038003942419166575,
           0.061612433829261126,
           0.038003942419166575,
           0.06492603542901958
          ],
          [
           0.0036950508034765835,
           -0.11700001812504586,
           0.2480906545375639,
           0.20461344694774097,
           0.5585326708193885,
           0.0035189075685082005,
           -0.14788875031016616,
           -0.07468085092684262,
           0.35448077651085985,
           -0.30225346934965014,
           -0.0035189075685081806,
           0.10625270251960481,
           -0.21152603536967934,
           0.21827822340960498,
           -0.2895095723414522,
           1,
           0.1732648524269049,
           -0.2821379770975388,
           -0.004704962197150836,
           0.21827822340960495,
           0.1917733991520229,
           0.21827822340960495,
           0.11139959504621785,
           0.21827822340960495,
           0.16509639131423726,
           0.21827822340960495,
           0.2408235565292048,
           0.21827822340960495,
           0.07204904102060988,
           0.21827822340960495,
           0.07395984413698505
          ],
          [
           -0.0012147794729687603,
           -0.024135372360318853,
           0.08202919645732594,
           0.06026700017636762,
           0.2330055250125013,
           -0.00772116000909938,
           -0.013588829059284399,
           0.0305503580723098,
           0.18291458126297627,
           -0.13430175066262848,
           0.0077211600090993935,
           0.06004835777743554,
           -0.05007665545044694,
           0.0010297293228974508,
           0.0675894142068618,
           0.1732648524269049,
           1,
           -0.37332228593657535,
           -0.28604941899078024,
           0.001029729322897456,
           0.11572065517555438,
           0.001029729322897456,
           0.0907847854525702,
           0.001029729322897456,
           0.11155436356101242,
           0.001029729322897456,
           0.11727230654467369,
           0.001029729322897456,
           0.04043308035426149,
           0.001029729322897456,
           0.04857480053298373
          ],
          [
           -0.000752180701195118,
           0.17171777869093566,
           -0.0838516893627104,
           -0.15064248847911282,
           -0.20836250343948987,
           0.00306182984543006,
           0.2088647554671869,
           0.2716246710861263,
           -0.05924588832828427,
           0.30191874901128485,
           -0.0030618298454300617,
           0.08361817831666876,
           0.336409778025587,
           -0.28491664585002247,
           -0.10912981441493752,
           -0.2821379770975388,
           -0.37332228593657535,
           1,
           -0.387371870906257,
           -0.28491664585002247,
           -0.11233777625407043,
           -0.28491664585002247,
           -0.00040771587258831753,
           -0.28491664585002247,
           -0.003350773408871404,
           -0.28491664585002247,
           -0.11483871499570032,
           -0.28491664585002247,
           0.14462638547453488,
           -0.28491664585002247,
           0.1379663754069012
          ],
          [
           -0.013744173305346297,
           -0.1534774904289598,
           -0.0951248588229323,
           0.05907101281466744,
           -0.23385205012387283,
           -0.0033187895436075673,
           -0.20539800518883702,
           -0.3774373156841074,
           -0.295758423135486,
           -0.09168283858842924,
           0.0033187895436076146,
           -0.2272063004280584,
           -0.3068341295762488,
           0.3213607323178355,
           -0.0001162210619356353,
           -0.004704962197150836,
           -0.28604941899078024,
           -0.387371870906257,
           1,
           0.3213607323178356,
           -0.08079805377720088,
           0.3213607323178356,
           -0.17416391693980945,
           0.3213607323178356,
           -0.18737348746355148,
           0.3213607323178356,
           -0.0855085067703288,
           0.3213607323178356,
           -0.24774242360741977,
           0.3213607323178356,
           -0.2505954638083168
          ],
          [
           -0.006025751154069734,
           -0.1827417229067252,
           0.000615165086389719,
           0.13981188531167849,
           -0.03906198211042829,
           0.17220876982805305,
           -0.321013065233209,
           -0.7635565582865729,
           -0.3752228425945091,
           -0.22789044975609363,
           -0.17220876982805305,
           -0.21056352377913026,
           -0.46579271044600296,
           1,
           0.038003942419166575,
           0.21827822340960495,
           0.001029729322897456,
           -0.28491664585002247,
           0.3213607323178356,
           1,
           -0.33340270489645063,
           1,
           -0.38159329680772747,
           1,
           -0.38075433795295827,
           1,
           -0.3362982846984598,
           1,
           -0.41555189388029695,
           1,
           -0.4186750789702156
          ],
          [
           0.017020796813959366,
           -0.038652704497195135,
           0.14310622750264376,
           0.08097166023248388,
           0.3272027731682451,
           -0.09289270011220853,
           -0.0036358971484742315,
           0.296594192000567,
           0.4116505266521841,
           -0.17122629194855227,
           0.09289270011220858,
           0.09810813969726401,
           -0.030695710962353,
           -0.33340270489645063,
           0.10016245689105187,
           0.1917733991520229,
           0.11572065517555438,
           -0.11233777625407043,
           -0.08079805377720088,
           -0.33340270489645063,
           1,
           -0.33340270489645063,
           0.2838322335327235,
           -0.33340270489645063,
           0.2754379787437869,
           -0.33340270489645063,
           0.3549307078927644,
           -0.33340270489645063,
           0.1762073070423944,
           -0.33340270489645063,
           0.18739833092624927
          ],
          [
           -0.006025751154069734,
           -0.1827417229067252,
           0.000615165086389719,
           0.13981188531167849,
           -0.03906198211042829,
           0.17220876982805305,
           -0.321013065233209,
           -0.7635565582865729,
           -0.3752228425945091,
           -0.22789044975609363,
           -0.17220876982805305,
           -0.21056352377913026,
           -0.46579271044600296,
           1,
           0.038003942419166575,
           0.21827822340960495,
           0.001029729322897456,
           -0.28491664585002247,
           0.3213607323178356,
           1,
           -0.33340270489645063,
           1,
           -0.38159329680772747,
           1,
           -0.38075433795295827,
           1,
           -0.3362982846984598,
           1,
           -0.41555189388029695,
           1,
           -0.4186750789702156
          ],
          [
           0.013773188729006026,
           0.06657213514513477,
           0.14149801947228105,
           0.023671013010513376,
           0.36027698898467386,
           -0.05231224294763546,
           0.12673537300697282,
           0.44178009435947463,
           0.5092260122231487,
           -0.08225486893814253,
           0.052312242947635604,
           0.20223701632049465,
           0.16565089083393228,
           -0.38159329680772747,
           0.08372237279771919,
           0.11139959504621785,
           0.0907847854525702,
           -0.00040771587258831753,
           -0.17416391693980945,
           -0.38159329680772747,
           0.2838322335327235,
           -0.38159329680772747,
           1,
           -0.38159329680772747,
           0.3035462090113277,
           -0.38159329680772747,
           0.294232878406895,
           -0.38159329680772747,
           0.2821064219717717,
           -0.38159329680772747,
           0.27450120196050104
          ],
          [
           -0.006025751154069734,
           -0.1827417229067252,
           0.000615165086389719,
           0.13981188531167849,
           -0.03906198211042829,
           0.17220876982805305,
           -0.321013065233209,
           -0.7635565582865729,
           -0.3752228425945091,
           -0.22789044975609363,
           -0.17220876982805305,
           -0.21056352377913026,
           -0.46579271044600296,
           1,
           0.038003942419166575,
           0.21827822340960495,
           0.001029729322897456,
           -0.28491664585002247,
           0.3213607323178356,
           1,
           -0.33340270489645063,
           1,
           -0.38159329680772747,
           1,
           -0.38075433795295827,
           1,
           -0.3362982846984598,
           1,
           -0.41555189388029695,
           1,
           -0.4186750789702156
          ],
          [
           0.0021045826513887023,
           0.05942849428693291,
           0.1537864356307786,
           0.013962535653790237,
           0.36065286693247145,
           -0.07122688671747501,
           0.10379680498154166,
           0.4826920482732954,
           0.5219828797811954,
           -0.0661597912802896,
           0.07122688671747497,
           0.2011365325449602,
           0.17604889095154463,
           -0.38075433795295827,
           0.10249519931671613,
           0.16509639131423726,
           0.11155436356101242,
           -0.003350773408871404,
           -0.18737348746355148,
           -0.38075433795295827,
           0.2754379787437869,
           -0.38075433795295827,
           0.3035462090113277,
           -0.38075433795295827,
           1,
           -0.38075433795295827,
           0.33331256231543915,
           -0.38075433795295827,
           0.3908740269195844,
           -0.38075433795295827,
           0.4021105377661726
          ],
          [
           -0.006025751154069734,
           -0.1827417229067252,
           0.000615165086389719,
           0.13981188531167849,
           -0.03906198211042829,
           0.17220876982805305,
           -0.321013065233209,
           -0.7635565582865729,
           -0.3752228425945091,
           -0.22789044975609363,
           -0.17220876982805305,
           -0.21056352377913026,
           -0.46579271044600296,
           1,
           0.038003942419166575,
           0.21827822340960495,
           0.001029729322897456,
           -0.28491664585002247,
           0.3213607323178356,
           1,
           -0.33340270489645063,
           1,
           -0.38159329680772747,
           1,
           -0.38075433795295827,
           1,
           -0.3362982846984598,
           1,
           -0.41555189388029695,
           1,
           -0.4186750789702156
          ],
          [
           0.009211760356587639,
           -0.06062459069356331,
           0.11999886976431598,
           0.06326814139965373,
           0.32422077199936566,
           -0.09633961826825965,
           0.03787990020728151,
           0.3383042642201546,
           0.4318827713275005,
           -0.16467355590159402,
           0.09633961826825942,
           0.10057130998573939,
           -0.020492402500577496,
           -0.3362982846984598,
           0.09577473766009509,
           0.2408235565292048,
           0.11727230654467369,
           -0.11483871499570032,
           -0.0855085067703288,
           -0.3362982846984598,
           0.3549307078927644,
           -0.3362982846984598,
           0.294232878406895,
           -0.3362982846984598,
           0.33331256231543915,
           -0.3362982846984598,
           1,
           -0.3362982846984599,
           0.2780702036372557,
           -0.3362982846984599,
           0.27935847892842425
          ],
          [
           -0.006025751154069734,
           -0.1827417229067252,
           0.000615165086389719,
           0.13981188531167849,
           -0.03906198211042829,
           0.17220876982805305,
           -0.321013065233209,
           -0.7635565582865729,
           -0.3752228425945091,
           -0.22789044975609363,
           -0.17220876982805305,
           -0.21056352377913026,
           -0.46579271044600296,
           1,
           0.038003942419166575,
           0.21827822340960495,
           0.001029729322897456,
           -0.28491664585002247,
           0.3213607323178356,
           1,
           -0.33340270489645063,
           1,
           -0.38159329680772747,
           1,
           -0.38075433795295827,
           1,
           -0.3362982846984599,
           1,
           -0.41555189388029695,
           1,
           -0.4186750789702156
          ],
          [
           0.008392549998357647,
           0.10537766784282361,
           0.12466580056491713,
           -0.01655774295103743,
           0.27975608223591575,
           -0.02257359179493708,
           0.22384098246010228,
           0.6296031609781678,
           0.5149734780630059,
           0.06322774611875737,
           0.02257359179493701,
           0.25715163510824723,
           0.32934852591155744,
           -0.41555189388029695,
           0.061612433829261126,
           0.07204904102060988,
           0.04043308035426149,
           0.14462638547453488,
           -0.24774242360741977,
           -0.41555189388029695,
           0.1762073070423944,
           -0.41555189388029695,
           0.2821064219717717,
           -0.41555189388029695,
           0.3908740269195844,
           -0.41555189388029695,
           0.2780702036372557,
           -0.41555189388029695,
           1,
           -0.415551893880297,
           0.5330938326943199
          ],
          [
           -0.006025751154069734,
           -0.1827417229067252,
           0.000615165086389719,
           0.13981188531167849,
           -0.03906198211042829,
           0.17220876982805305,
           -0.321013065233209,
           -0.7635565582865729,
           -0.3752228425945091,
           -0.22789044975609363,
           -0.17220876982805305,
           -0.21056352377913026,
           -0.46579271044600296,
           1,
           0.038003942419166575,
           0.21827822340960495,
           0.001029729322897456,
           -0.28491664585002247,
           0.3213607323178356,
           1,
           -0.33340270489645063,
           1,
           -0.38159329680772747,
           1,
           -0.38075433795295827,
           1,
           -0.3362982846984599,
           1,
           -0.415551893880297,
           1,
           -0.4186750789702156
          ],
          [
           0.010487356300500295,
           0.12017625118896447,
           0.11741185447194484,
           -0.0397409620589235,
           0.28611058777846027,
           -0.032958892364780966,
           0.21171599176513148,
           0.6274288843898599,
           0.520121782100853,
           0.061381548015186964,
           0.03295889236478096,
           0.2587514919937776,
           0.3229226980848275,
           -0.4186750789702156,
           0.06492603542901958,
           0.07395984413698505,
           0.04857480053298373,
           0.1379663754069012,
           -0.2505954638083168,
           -0.4186750789702156,
           0.18739833092624927,
           -0.4186750789702156,
           0.27450120196050104,
           -0.4186750789702156,
           0.4021105377661726,
           -0.4186750789702156,
           0.27935847892842425,
           -0.4186750789702156,
           0.5330938326943199,
           -0.4186750789702156,
           1
          ]
         ]
        }
       ],
       "layout": {
        "coloraxis": {
         "colorscale": [
          [
           0,
           "#0d0887"
          ],
          [
           0.1111111111111111,
           "#46039f"
          ],
          [
           0.2222222222222222,
           "#7201a8"
          ],
          [
           0.3333333333333333,
           "#9c179e"
          ],
          [
           0.4444444444444444,
           "#bd3786"
          ],
          [
           0.5555555555555556,
           "#d8576b"
          ],
          [
           0.6666666666666666,
           "#ed7953"
          ],
          [
           0.7777777777777778,
           "#fb9f3a"
          ],
          [
           0.8888888888888888,
           "#fdca26"
          ],
          [
           1,
           "#f0f921"
          ]
         ]
        },
        "height": 800,
        "margin": {
         "t": 60
        },
        "template": {
         "data": {
          "bar": [
           {
            "error_x": {
             "color": "#2a3f5f"
            },
            "error_y": {
             "color": "#2a3f5f"
            },
            "marker": {
             "line": {
              "color": "#E5ECF6",
              "width": 0.5
             },
             "pattern": {
              "fillmode": "overlay",
              "size": 10,
              "solidity": 0.2
             }
            },
            "type": "bar"
           }
          ],
          "barpolar": [
           {
            "marker": {
             "line": {
              "color": "#E5ECF6",
              "width": 0.5
             },
             "pattern": {
              "fillmode": "overlay",
              "size": 10,
              "solidity": 0.2
             }
            },
            "type": "barpolar"
           }
          ],
          "carpet": [
           {
            "aaxis": {
             "endlinecolor": "#2a3f5f",
             "gridcolor": "white",
             "linecolor": "white",
             "minorgridcolor": "white",
             "startlinecolor": "#2a3f5f"
            },
            "baxis": {
             "endlinecolor": "#2a3f5f",
             "gridcolor": "white",
             "linecolor": "white",
             "minorgridcolor": "white",
             "startlinecolor": "#2a3f5f"
            },
            "type": "carpet"
           }
          ],
          "choropleth": [
           {
            "colorbar": {
             "outlinewidth": 0,
             "ticks": ""
            },
            "type": "choropleth"
           }
          ],
          "contour": [
           {
            "colorbar": {
             "outlinewidth": 0,
             "ticks": ""
            },
            "colorscale": [
             [
              0,
              "#0d0887"
             ],
             [
              0.1111111111111111,
              "#46039f"
             ],
             [
              0.2222222222222222,
              "#7201a8"
             ],
             [
              0.3333333333333333,
              "#9c179e"
             ],
             [
              0.4444444444444444,
              "#bd3786"
             ],
             [
              0.5555555555555556,
              "#d8576b"
             ],
             [
              0.6666666666666666,
              "#ed7953"
             ],
             [
              0.7777777777777778,
              "#fb9f3a"
             ],
             [
              0.8888888888888888,
              "#fdca26"
             ],
             [
              1,
              "#f0f921"
             ]
            ],
            "type": "contour"
           }
          ],
          "contourcarpet": [
           {
            "colorbar": {
             "outlinewidth": 0,
             "ticks": ""
            },
            "type": "contourcarpet"
           }
          ],
          "heatmap": [
           {
            "colorbar": {
             "outlinewidth": 0,
             "ticks": ""
            },
            "colorscale": [
             [
              0,
              "#0d0887"
             ],
             [
              0.1111111111111111,
              "#46039f"
             ],
             [
              0.2222222222222222,
              "#7201a8"
             ],
             [
              0.3333333333333333,
              "#9c179e"
             ],
             [
              0.4444444444444444,
              "#bd3786"
             ],
             [
              0.5555555555555556,
              "#d8576b"
             ],
             [
              0.6666666666666666,
              "#ed7953"
             ],
             [
              0.7777777777777778,
              "#fb9f3a"
             ],
             [
              0.8888888888888888,
              "#fdca26"
             ],
             [
              1,
              "#f0f921"
             ]
            ],
            "type": "heatmap"
           }
          ],
          "heatmapgl": [
           {
            "colorbar": {
             "outlinewidth": 0,
             "ticks": ""
            },
            "colorscale": [
             [
              0,
              "#0d0887"
             ],
             [
              0.1111111111111111,
              "#46039f"
             ],
             [
              0.2222222222222222,
              "#7201a8"
             ],
             [
              0.3333333333333333,
              "#9c179e"
             ],
             [
              0.4444444444444444,
              "#bd3786"
             ],
             [
              0.5555555555555556,
              "#d8576b"
             ],
             [
              0.6666666666666666,
              "#ed7953"
             ],
             [
              0.7777777777777778,
              "#fb9f3a"
             ],
             [
              0.8888888888888888,
              "#fdca26"
             ],
             [
              1,
              "#f0f921"
             ]
            ],
            "type": "heatmapgl"
           }
          ],
          "histogram": [
           {
            "marker": {
             "pattern": {
              "fillmode": "overlay",
              "size": 10,
              "solidity": 0.2
             }
            },
            "type": "histogram"
           }
          ],
          "histogram2d": [
           {
            "colorbar": {
             "outlinewidth": 0,
             "ticks": ""
            },
            "colorscale": [
             [
              0,
              "#0d0887"
             ],
             [
              0.1111111111111111,
              "#46039f"
             ],
             [
              0.2222222222222222,
              "#7201a8"
             ],
             [
              0.3333333333333333,
              "#9c179e"
             ],
             [
              0.4444444444444444,
              "#bd3786"
             ],
             [
              0.5555555555555556,
              "#d8576b"
             ],
             [
              0.6666666666666666,
              "#ed7953"
             ],
             [
              0.7777777777777778,
              "#fb9f3a"
             ],
             [
              0.8888888888888888,
              "#fdca26"
             ],
             [
              1,
              "#f0f921"
             ]
            ],
            "type": "histogram2d"
           }
          ],
          "histogram2dcontour": [
           {
            "colorbar": {
             "outlinewidth": 0,
             "ticks": ""
            },
            "colorscale": [
             [
              0,
              "#0d0887"
             ],
             [
              0.1111111111111111,
              "#46039f"
             ],
             [
              0.2222222222222222,
              "#7201a8"
             ],
             [
              0.3333333333333333,
              "#9c179e"
             ],
             [
              0.4444444444444444,
              "#bd3786"
             ],
             [
              0.5555555555555556,
              "#d8576b"
             ],
             [
              0.6666666666666666,
              "#ed7953"
             ],
             [
              0.7777777777777778,
              "#fb9f3a"
             ],
             [
              0.8888888888888888,
              "#fdca26"
             ],
             [
              1,
              "#f0f921"
             ]
            ],
            "type": "histogram2dcontour"
           }
          ],
          "mesh3d": [
           {
            "colorbar": {
             "outlinewidth": 0,
             "ticks": ""
            },
            "type": "mesh3d"
           }
          ],
          "parcoords": [
           {
            "line": {
             "colorbar": {
              "outlinewidth": 0,
              "ticks": ""
             }
            },
            "type": "parcoords"
           }
          ],
          "pie": [
           {
            "automargin": true,
            "type": "pie"
           }
          ],
          "scatter": [
           {
            "fillpattern": {
             "fillmode": "overlay",
             "size": 10,
             "solidity": 0.2
            },
            "type": "scatter"
           }
          ],
          "scatter3d": [
           {
            "line": {
             "colorbar": {
              "outlinewidth": 0,
              "ticks": ""
             }
            },
            "marker": {
             "colorbar": {
              "outlinewidth": 0,
              "ticks": ""
             }
            },
            "type": "scatter3d"
           }
          ],
          "scattercarpet": [
           {
            "marker": {
             "colorbar": {
              "outlinewidth": 0,
              "ticks": ""
             }
            },
            "type": "scattercarpet"
           }
          ],
          "scattergeo": [
           {
            "marker": {
             "colorbar": {
              "outlinewidth": 0,
              "ticks": ""
             }
            },
            "type": "scattergeo"
           }
          ],
          "scattergl": [
           {
            "marker": {
             "colorbar": {
              "outlinewidth": 0,
              "ticks": ""
             }
            },
            "type": "scattergl"
           }
          ],
          "scattermapbox": [
           {
            "marker": {
             "colorbar": {
              "outlinewidth": 0,
              "ticks": ""
             }
            },
            "type": "scattermapbox"
           }
          ],
          "scatterpolar": [
           {
            "marker": {
             "colorbar": {
              "outlinewidth": 0,
              "ticks": ""
             }
            },
            "type": "scatterpolar"
           }
          ],
          "scatterpolargl": [
           {
            "marker": {
             "colorbar": {
              "outlinewidth": 0,
              "ticks": ""
             }
            },
            "type": "scatterpolargl"
           }
          ],
          "scatterternary": [
           {
            "marker": {
             "colorbar": {
              "outlinewidth": 0,
              "ticks": ""
             }
            },
            "type": "scatterternary"
           }
          ],
          "surface": [
           {
            "colorbar": {
             "outlinewidth": 0,
             "ticks": ""
            },
            "colorscale": [
             [
              0,
              "#0d0887"
             ],
             [
              0.1111111111111111,
              "#46039f"
             ],
             [
              0.2222222222222222,
              "#7201a8"
             ],
             [
              0.3333333333333333,
              "#9c179e"
             ],
             [
              0.4444444444444444,
              "#bd3786"
             ],
             [
              0.5555555555555556,
              "#d8576b"
             ],
             [
              0.6666666666666666,
              "#ed7953"
             ],
             [
              0.7777777777777778,
              "#fb9f3a"
             ],
             [
              0.8888888888888888,
              "#fdca26"
             ],
             [
              1,
              "#f0f921"
             ]
            ],
            "type": "surface"
           }
          ],
          "table": [
           {
            "cells": {
             "fill": {
              "color": "#EBF0F8"
             },
             "line": {
              "color": "white"
             }
            },
            "header": {
             "fill": {
              "color": "#C8D4E3"
             },
             "line": {
              "color": "white"
             }
            },
            "type": "table"
           }
          ]
         },
         "layout": {
          "annotationdefaults": {
           "arrowcolor": "#2a3f5f",
           "arrowhead": 0,
           "arrowwidth": 1
          },
          "autotypenumbers": "strict",
          "coloraxis": {
           "colorbar": {
            "outlinewidth": 0,
            "ticks": ""
           }
          },
          "colorscale": {
           "diverging": [
            [
             0,
             "#8e0152"
            ],
            [
             0.1,
             "#c51b7d"
            ],
            [
             0.2,
             "#de77ae"
            ],
            [
             0.3,
             "#f1b6da"
            ],
            [
             0.4,
             "#fde0ef"
            ],
            [
             0.5,
             "#f7f7f7"
            ],
            [
             0.6,
             "#e6f5d0"
            ],
            [
             0.7,
             "#b8e186"
            ],
            [
             0.8,
             "#7fbc41"
            ],
            [
             0.9,
             "#4d9221"
            ],
            [
             1,
             "#276419"
            ]
           ],
           "sequential": [
            [
             0,
             "#0d0887"
            ],
            [
             0.1111111111111111,
             "#46039f"
            ],
            [
             0.2222222222222222,
             "#7201a8"
            ],
            [
             0.3333333333333333,
             "#9c179e"
            ],
            [
             0.4444444444444444,
             "#bd3786"
            ],
            [
             0.5555555555555556,
             "#d8576b"
            ],
            [
             0.6666666666666666,
             "#ed7953"
            ],
            [
             0.7777777777777778,
             "#fb9f3a"
            ],
            [
             0.8888888888888888,
             "#fdca26"
            ],
            [
             1,
             "#f0f921"
            ]
           ],
           "sequentialminus": [
            [
             0,
             "#0d0887"
            ],
            [
             0.1111111111111111,
             "#46039f"
            ],
            [
             0.2222222222222222,
             "#7201a8"
            ],
            [
             0.3333333333333333,
             "#9c179e"
            ],
            [
             0.4444444444444444,
             "#bd3786"
            ],
            [
             0.5555555555555556,
             "#d8576b"
            ],
            [
             0.6666666666666666,
             "#ed7953"
            ],
            [
             0.7777777777777778,
             "#fb9f3a"
            ],
            [
             0.8888888888888888,
             "#fdca26"
            ],
            [
             1,
             "#f0f921"
            ]
           ]
          },
          "colorway": [
           "#636efa",
           "#EF553B",
           "#00cc96",
           "#ab63fa",
           "#FFA15A",
           "#19d3f3",
           "#FF6692",
           "#B6E880",
           "#FF97FF",
           "#FECB52"
          ],
          "font": {
           "color": "#2a3f5f"
          },
          "geo": {
           "bgcolor": "white",
           "lakecolor": "white",
           "landcolor": "#E5ECF6",
           "showlakes": true,
           "showland": true,
           "subunitcolor": "white"
          },
          "hoverlabel": {
           "align": "left"
          },
          "hovermode": "closest",
          "mapbox": {
           "style": "light"
          },
          "paper_bgcolor": "white",
          "plot_bgcolor": "#E5ECF6",
          "polar": {
           "angularaxis": {
            "gridcolor": "white",
            "linecolor": "white",
            "ticks": ""
           },
           "bgcolor": "#E5ECF6",
           "radialaxis": {
            "gridcolor": "white",
            "linecolor": "white",
            "ticks": ""
           }
          },
          "scene": {
           "xaxis": {
            "backgroundcolor": "#E5ECF6",
            "gridcolor": "white",
            "gridwidth": 2,
            "linecolor": "white",
            "showbackground": true,
            "ticks": "",
            "zerolinecolor": "white"
           },
           "yaxis": {
            "backgroundcolor": "#E5ECF6",
            "gridcolor": "white",
            "gridwidth": 2,
            "linecolor": "white",
            "showbackground": true,
            "ticks": "",
            "zerolinecolor": "white"
           },
           "zaxis": {
            "backgroundcolor": "#E5ECF6",
            "gridcolor": "white",
            "gridwidth": 2,
            "linecolor": "white",
            "showbackground": true,
            "ticks": "",
            "zerolinecolor": "white"
           }
          },
          "shapedefaults": {
           "line": {
            "color": "#2a3f5f"
           }
          },
          "ternary": {
           "aaxis": {
            "gridcolor": "white",
            "linecolor": "white",
            "ticks": ""
           },
           "baxis": {
            "gridcolor": "white",
            "linecolor": "white",
            "ticks": ""
           },
           "bgcolor": "#E5ECF6",
           "caxis": {
            "gridcolor": "white",
            "linecolor": "white",
            "ticks": ""
           }
          },
          "title": {
           "x": 0.05
          },
          "xaxis": {
           "automargin": true,
           "gridcolor": "white",
           "linecolor": "white",
           "ticks": "",
           "title": {
            "standoff": 15
           },
           "zerolinecolor": "white",
           "zerolinewidth": 2
          },
          "yaxis": {
           "automargin": true,
           "gridcolor": "white",
           "linecolor": "white",
           "ticks": "",
           "title": {
            "standoff": 15
           },
           "zerolinecolor": "white",
           "zerolinewidth": 2
          }
         }
        },
        "xaxis": {
         "anchor": "y",
         "domain": [
          0,
          1
         ],
         "side": "top"
        },
        "yaxis": {
         "anchor": "x",
         "autorange": "reversed",
         "domain": [
          0,
          1
         ]
        }
       }
      }
     },
     "metadata": {},
     "output_type": "display_data"
    }
   ],
   "source": [
    "corr = df.corr()\n",
    "\n",
    "fig = px.imshow(corr, text_auto=False, aspect=\"auto\", height=800)\n",
    "\n",
    "fig.update_traces(hovertemplate='Correlation: %{z:.2f}')\n",
    "\n",
    "fig.update_layout(xaxis_side=\"top\")\n",
    "\n",
    "fig.show()"
   ]
  },
  {
   "cell_type": "markdown",
   "id": "b00aa6c7",
   "metadata": {},
   "source": [
    "Some of the one-hot encoded categorical variables are 100% correlated (redundant) with each other (e.g. InternetService_No and OnlineBackup_No internet service etc.)\n",
    "So we should remove the redundance ones among these to avoid multicollinearity before modeling.\n",
    "- PhoneService vs MultipleLines: So drop PhoneService (since MultipleLines contains that info already).\n",
    "- InternetService_No vs all _No internet service dummies: So drop the _No internet service columns (since InternetService_No already captures that condition).\n",
    "\n"
   ]
  }
 ],
 "metadata": {
  "kernelspec": {
   "display_name": "Python 3",
   "language": "python",
   "name": "python3"
  },
  "language_info": {
   "codemirror_mode": {
    "name": "ipython",
    "version": 3
   },
   "file_extension": ".py",
   "mimetype": "text/x-python",
   "name": "python",
   "nbconvert_exporter": "python",
   "pygments_lexer": "ipython3",
   "version": "3.11.2"
  }
 },
 "nbformat": 4,
 "nbformat_minor": 5
}
